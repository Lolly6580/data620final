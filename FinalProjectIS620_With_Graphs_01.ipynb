{
 "cells": [
  {
   "cell_type": "markdown",
   "metadata": {},
   "source": [
    "# IS620 Final Project\n",
    "\n",
    "Data:  ~4200 pub med journals, including author affilations.  The affiliations are not provided in an specified manner, and are instead long 'strings'.  \n",
    "\n",
    "Goal:  It is not clear, looking at the strings, how to distinuish instituion names from department names and so on.  The goal here is to develop a maching learning algo which can pull instinution names from the affilations, such that a graph of schools which publish with eachother might be generated.\n",
    "\n",
    "Results:  A decision tree was found to be most appliciable.  The accuracy was ~92% with the test set.  However, this only tells part of the story; I labeled a training set of ~4000 samples, and some of these I mislabeled.  Thus the machine learning had to properly assign labels that I had put in incorrectly!\n",
    "\n",
    "\n"
   ]
  },
  {
   "cell_type": "code",
   "execution_count": 89,
   "metadata": {
    "collapsed": true
   },
   "outputs": [],
   "source": [
    "%matplotlib inline\n",
    "import random\n",
    "import nltk\n",
    "import string\n",
    "import networkx as nx\n",
    "import io\n",
    "import matplotlib.pyplot as plt\n",
    "import pandas as pd"
   ]
  },
  {
   "cell_type": "code",
   "execution_count": 90,
   "metadata": {
    "collapsed": false
   },
   "outputs": [],
   "source": [
    "## Here we open a file of downloaded journal articles including author names and affiliations.\n",
    "pubs = []\n",
    "with open('project2pubs.txt','r') as f:\n",
    "    for line in f:\n",
    "        pubs.append(line.split(']]'))\n",
    "        "
   ]
  },
  {
   "cell_type": "code",
   "execution_count": 91,
   "metadata": {
    "collapsed": false
   },
   "outputs": [
    {
     "data": {
      "text/plain": [
       "[\"[['Ma Y', 'Zhang J', 'Yin W', 'Zhang Z', 'Song Y', 'Chang X'], ['Ma Y', 'Zhang J', 'Yin W', 'Zhang Z', 'Song Y', 'Chang X'], ['Ma Y', 'Zhang J', 'Yin W', 'Zhang Z', 'Song Y', 'Chang X'], ['Ma Y', 'Zhang J', 'Yin W', 'Zhang Z', 'Song Y', 'Chang X'], ['Ma Y', 'Zhang J', 'Yin W', 'Zhang Z', 'Song Y', 'Chang X'], ['Ma Y', 'Zhang J', 'Yin W', 'Zhang Z', 'Song Y', 'Chang X'\",\n",
       " ',Key Laboratory of Stem Cell Biology, Institute of Health Sciences, Shanghai Institutes for Biological Sciences &Shanghai Jiao Tong University School of Medicine (SJTUSM), Chinese Academy of Sciences, Shanghai, China. Key Laboratory of Stem Cell Biology, Institute of Health Sciences, Shanghai Institutes for Biological Sciences &Shanghai Jiao Tong University School of Medicine (SJTUSM), Chinese Academy of Sciences, Shanghai, China. Key Laboratory of Stem Cell Biology, Institute of Health Sciences, Shanghai Institutes for Biological Sciences &Shanghai Jiao Tong University School of Medicine (SJTUSM), Chinese Academy of Sciences, Shanghai, China. Key Laboratory of Stem Cell Biology, Institute of Health Sciences, Shanghai Institutes for Biological Sciences &Shanghai Jiao Tong University School of Medicine (SJTUSM), Chinese Academy of Sciences, Shanghai, China. Department of Cellular and Molecular Medicine, University of California at San Diego, La Jolla, La Jolla, California, USA. Key Laboratory of Stem Cell Biology, Institute of Health Sciences, Shanghai Institutes for Biological Sciences &Shanghai Jiao Tong University School of Medicine (SJTUSM), Chinese Academy of Sciences, Shanghai, China. Collaborative Innovation Center of Systems Biomedicine, Shanghai Jiao Tong University School of Medicine, Shanghai, China.,2016/10/11 06:00,Nat Methods,Nature methods\\n']"
      ]
     },
     "execution_count": 91,
     "metadata": {},
     "output_type": "execute_result"
    }
   ],
   "source": [
    "## As you can see, the data is a mess\n",
    "pubs[0]"
   ]
  },
  {
   "cell_type": "code",
   "execution_count": 92,
   "metadata": {
    "collapsed": false
   },
   "outputs": [
    {
     "data": {
      "text/plain": [
       "['Ma Y', 'Zhang J', 'Yin W', 'Zhang Z', 'Song Y', 'Chang X']"
      ]
     },
     "execution_count": 92,
     "metadata": {},
     "output_type": "execute_result"
    }
   ],
   "source": [
    "## The form of the strings in the files, are a mess, a much effort needed to clean it all up\n",
    "stringIn = \"string.with.punctuation!\"\n",
    "\n",
    "author = []\n",
    "for x in pubs:\n",
    "    if isinstance(x, list):\n",
    "        t = (x[0].translate(None, '!@#$][,').split(\"'\"))\n",
    "        temp = []\n",
    "        for x in t: \n",
    "            if x:\n",
    "                if x != \" \":\n",
    "                    if x not in temp:\n",
    "                       temp.append(x)\n",
    "        author.append(temp)\n",
    "            \n",
    "        \n",
    "    \n",
    "author[0]"
   ]
  },
  {
   "cell_type": "code",
   "execution_count": 93,
   "metadata": {
    "collapsed": false
   },
   "outputs": [
    {
     "data": {
      "text/plain": [
       "4215"
      ]
     },
     "execution_count": 93,
     "metadata": {},
     "output_type": "execute_result"
    }
   ],
   "source": [
    "len(author)"
   ]
  },
  {
   "cell_type": "code",
   "execution_count": 94,
   "metadata": {
    "collapsed": false
   },
   "outputs": [
    {
     "data": {
      "text/plain": [
       "4215"
      ]
     },
     "execution_count": 94,
     "metadata": {},
     "output_type": "execute_result"
    }
   ],
   "source": [
    "len(pubs)"
   ]
  },
  {
   "cell_type": "code",
   "execution_count": 95,
   "metadata": {
    "collapsed": false
   },
   "outputs": [],
   "source": [
    "## The affiliation data is a mess.  Sometimes its deliminated with . or ;, etcetera.  \n",
    "## below we split up each affiliation using a number of delimiters\n",
    "\n",
    "splitcomma = []\n",
    "splitperiod = []\n",
    "splitsemicolon = []\n",
    "splitspace = []\n",
    "for x in pubs:\n",
    "    if len(x) > 1:\n",
    "        s = x[1]\n",
    "        s = s[:-1]\n",
    "        t = s.split(\",\")\n",
    "        if len(t)>2:\n",
    "            t = t[:-2]  # remove journal names\n",
    "        else:\n",
    "            t = \" \"\n",
    "        for x in range(0, len(t)):\n",
    "            if isinstance(t[x], str):\n",
    "                t[x] = str(t[x]).lstrip()\n",
    "                t[x] = str(t[x]).rstrip()\n",
    "        splitcomma.append(t)\n",
    "        t = s.split(\".\")\n",
    "        for x in range(0, len(t)):\n",
    "            if isinstance(t[x], str):\n",
    "                t[x] = str(t[x]).lstrip()\n",
    "                t[x] = str(t[x]).rstrip()\n",
    "        splitperiod.append(t)\n",
    "        t = s.split(\";\")\n",
    "        for x in range(0, len(t)):\n",
    "            if isinstance(t[x], str):\n",
    "                t[x] = str(t[x]).lstrip()\n",
    "                t[x] = str(t[x]).rstrip()\n",
    "        splitsemicolon.append(t)\n",
    "        t = s.split(\" \")\n",
    "        for x in range(0, len(t)):\n",
    "            if isinstance(t[x], str):\n",
    "                t[x] = str(t[x]).lstrip()\n",
    "                t[x] = str(t[x]).rstrip()\n",
    "        splitspace.append(t)\n",
    "    else:\n",
    "        splitcomma.append(\"\")\n",
    "        splitperiod.append(\"\")\n",
    "        splitsemicolon.append(\"\")\n",
    "        splitspace.append(\"\")\n",
    "        \n",
    "\n",
    "    \n",
    "        \n"
   ]
  },
  {
   "cell_type": "code",
   "execution_count": 96,
   "metadata": {
    "collapsed": true
   },
   "outputs": [],
   "source": [
    "def stringHasPunct(s):\n",
    "    if not s:\n",
    "        return True\n",
    "    for x in string.punctuation:\n",
    "        if x in s:\n",
    "            return True\n",
    "    return False"
   ]
  },
  {
   "cell_type": "code",
   "execution_count": 97,
   "metadata": {
    "collapsed": false
   },
   "outputs": [],
   "source": [
    "## below we generate a list of all possible 'phrases' in the affiliation\n",
    "\n",
    "listterms = []\n",
    "for x in range(0, len(splitcomma)):\n",
    "    temp = []\n",
    "    t = []\n",
    "    for y in splitcomma[x]:\n",
    "        if not stringHasPunct(y):\n",
    "            t.append(y)\n",
    "    temp.append(t)\n",
    "    t = []\n",
    "    for y in splitsemicolon[x]:\n",
    "        if not stringHasPunct(y):\n",
    "            t.append(y)\n",
    "    temp.append(t)\n",
    "    t = []\n",
    "    for y in splitperiod[x]:\n",
    "        if not stringHasPunct(y):\n",
    "            t.append(y)\n",
    "    temp.append(t)\n",
    "    listterms.append(temp)"
   ]
  },
  {
   "cell_type": "code",
   "execution_count": 98,
   "metadata": {
    "collapsed": false
   },
   "outputs": [
    {
     "data": {
      "text/plain": [
       "[['Qinghai Provincial Key Laboratory for Plague Control and Research',\n",
       "  'Qinghai Institute for Endemic Disease Prevention and Control',\n",
       "  'Xining',\n",
       "  'Qinghai Province',\n",
       "  '811602',\n",
       "  'Fengtai',\n",
       "  'Beijing',\n",
       "  '100071',\n",
       "  'Qinghai Institute for Endemic Disease Prevention and Control',\n",
       "  'Xining',\n",
       "  'Qinghai Province',\n",
       "  '811602',\n",
       "  'Fengtai',\n",
       "  'Beijing',\n",
       "  '100071'],\n",
       " [],\n",
       " ['com']]"
      ]
     },
     "execution_count": 98,
     "metadata": {},
     "output_type": "execute_result"
    }
   ],
   "source": [
    "## example affiliations are shown below.  The question is, can\n",
    "## a machine learning classification determine which are institution names??\n",
    "listterms[2]"
   ]
  },
  {
   "cell_type": "code",
   "execution_count": 99,
   "metadata": {
    "collapsed": false
   },
   "outputs": [],
   "source": [
    "## I save all the phrases to a csv.  I will label some of the \n",
    "## phrases in the csv file to then train the system.\n",
    "f = open('labelAffiliations.txt','w')\n",
    "for x in listterms:\n",
    "    for y in x:\n",
    "        for z in y:\n",
    "            f.write(str(z) + '\\n') \n",
    "f.close() \n"
   ]
  },
  {
   "cell_type": "code",
   "execution_count": 100,
   "metadata": {
    "collapsed": false
   },
   "outputs": [],
   "source": [
    "## in excel, I marked >4000 'phrases' as belonging to an \n",
    "## instituion or not.  Most of these were just zip codes and such,\n",
    "## so easy to mark.\n",
    "\n",
    "phrase = []\n",
    "label = []\n",
    "with open('labelAffiliations.csv') as f:\n",
    "    for line in f:\n",
    "        line = line.rstrip()\n",
    "        line = line.split(\",\")\n",
    "        if len(line) >1 and line[1]:\n",
    "            phrase.append(line[0])\n",
    "            label.append(line[1])\n",
    "            \n",
    "            "
   ]
  },
  {
   "cell_type": "code",
   "execution_count": 101,
   "metadata": {
    "collapsed": false
   },
   "outputs": [
    {
     "data": {
      "text/plain": [
       "4866"
      ]
     },
     "execution_count": 101,
     "metadata": {},
     "output_type": "execute_result"
    }
   ],
   "source": [
    "len(label)"
   ]
  },
  {
   "cell_type": "code",
   "execution_count": 102,
   "metadata": {
    "collapsed": false
   },
   "outputs": [],
   "source": [
    "## get all words used in any labeled affiliation\n",
    "words = []\n",
    "for x in phrase:\n",
    "    x = x.split(\" \")\n",
    "    for y in x:\n",
    "        words.append(y)\n",
    "        "
   ]
  },
  {
   "cell_type": "code",
   "execution_count": 103,
   "metadata": {
    "collapsed": false
   },
   "outputs": [
    {
     "data": {
      "text/plain": [
       "15304"
      ]
     },
     "execution_count": 103,
     "metadata": {},
     "output_type": "execute_result"
    }
   ],
   "source": [
    "len(words)"
   ]
  },
  {
   "cell_type": "code",
   "execution_count": 104,
   "metadata": {
    "collapsed": true
   },
   "outputs": [],
   "source": [
    "#look at the top 200 words\n",
    "all_words = nltk.FreqDist(words)\n",
    "top100 = all_words.most_common(50)"
   ]
  },
  {
   "cell_type": "code",
   "execution_count": 105,
   "metadata": {
    "collapsed": false
   },
   "outputs": [],
   "source": [
    "word_feature = []\n",
    "for x in top100:\n",
    "    word_feature.append(x[0])"
   ]
  },
  {
   "cell_type": "code",
   "execution_count": 106,
   "metadata": {
    "collapsed": false
   },
   "outputs": [
    {
     "data": {
      "text/plain": [
       "['of',\n",
       " 'and',\n",
       " 'Department',\n",
       " 'for',\n",
       " 'Center',\n",
       " 'Biology',\n",
       " 'University',\n",
       " 'Institute',\n",
       " 'Research',\n",
       " 'Sciences',\n",
       " 'Medicine',\n",
       " 'Division',\n",
       " 'Science',\n",
       " 'Molecular',\n",
       " 'Cell',\n",
       " 'Medical',\n",
       " 'Centre',\n",
       " 'College',\n",
       " 'Cancer',\n",
       " 'Street',\n",
       " 'de',\n",
       " 'Genetics',\n",
       " 'Laboratory',\n",
       " 'Road',\n",
       " 'Engineering',\n",
       " 'Avenue',\n",
       " 'National',\n",
       " 'in',\n",
       " 'Beijing',\n",
       " 'Microbiology',\n",
       " 'Technology',\n",
       " 'New',\n",
       " 'Health',\n",
       " 'Biological',\n",
       " 'Biotechnology',\n",
       " 'Drive',\n",
       " 'School',\n",
       " 'China',\n",
       " 'CA',\n",
       " 'Cambridge',\n",
       " 'Biochemistry',\n",
       " 'Biol',\n",
       " 'a',\n",
       " 'the',\n",
       " 'York',\n",
       " 'Life',\n",
       " 'Diseases',\n",
       " 'California',\n",
       " '1',\n",
       " 'Biomedical']"
      ]
     },
     "execution_count": 106,
     "metadata": {},
     "output_type": "execute_result"
    }
   ],
   "source": [
    "word_feature"
   ]
  },
  {
   "cell_type": "code",
   "execution_count": 107,
   "metadata": {
    "collapsed": false
   },
   "outputs": [
    {
     "data": {
      "text/plain": [
       "[['Key Laboratory of Stem Cell Biology',\n",
       "  'Institute of Health Sciences',\n",
       "  'Chinese Academy of Sciences',\n",
       "  'Shanghai',\n",
       "  'Institute of Health Sciences',\n",
       "  'Chinese Academy of Sciences',\n",
       "  'Shanghai',\n",
       "  'Institute of Health Sciences',\n",
       "  'Chinese Academy of Sciences',\n",
       "  'Shanghai',\n",
       "  'Institute of Health Sciences',\n",
       "  'Chinese Academy of Sciences',\n",
       "  'Shanghai',\n",
       "  'University of California at San Diego',\n",
       "  'La Jolla',\n",
       "  'La Jolla',\n",
       "  'California',\n",
       "  'Institute of Health Sciences',\n",
       "  'Chinese Academy of Sciences',\n",
       "  'Shanghai',\n",
       "  'Shanghai Jiao Tong University School of Medicine',\n",
       "  'Shanghai'],\n",
       " [],\n",
       " []]"
      ]
     },
     "execution_count": 107,
     "metadata": {},
     "output_type": "execute_result"
    }
   ],
   "source": [
    "listterms[0]"
   ]
  },
  {
   "cell_type": "code",
   "execution_count": 108,
   "metadata": {
    "collapsed": false
   },
   "outputs": [],
   "source": [
    "## the feature I want to look at.  \n",
    "\n",
    "def getContentIndex(listterms_x, phrase):\n",
    "    '''what affiliation does a phrase occur in.\n",
    "    Bear in mind that I labeled phrases free of any context\n",
    "    and now need to figure out which affilation each phrase come from'''\n",
    "    for x in listterms_x: ## x is a list ['ewfew', 'wefew' ]\n",
    "        if phrase in x:\n",
    "            return x.index(phrase), x\n",
    "    else:\n",
    "        return False, False\n",
    "\n",
    "def hasNumber(word):\n",
    "    for x in word:\n",
    "        if is_number(x):\n",
    "            return True\n",
    "    return False\n",
    "\n",
    "def is_number(s):\n",
    "    try:\n",
    "        float(s)\n",
    "        return True\n",
    "    except ValueError:\n",
    "        return False\n",
    "    \n",
    "def firstWordisCapital(x):\n",
    "    fl = x[0]\n",
    "    if is_number(fl):\n",
    "        return False\n",
    "    if fl == fl.upper():\n",
    "        return True\n",
    "    return False\n",
    "\n",
    "def ratioOfCaptialLetters(phrase):\n",
    "    p = phrase.split()\n",
    "    c = 0\n",
    "    for x in p:\n",
    "        for y in x:\n",
    "            if not is_number(y):\n",
    "                if y == y.upper():\n",
    "                    c += 1\n",
    "    if len(p) != 0:\n",
    "        r = c/float(len(p))\n",
    "    else:\n",
    "        r = 0\n",
    "    return int(r*10)\n",
    "\n",
    "def numberOfWords(phrase):\n",
    "    p = phrase.split()\n",
    "    return int(len(p)/2)\n",
    "\n",
    "def oneWord(phrase):\n",
    "    p = phrase.split()\n",
    "    if len(p) == 1:\n",
    "        return True\n",
    "    else:\n",
    "        return False\n",
    "    \n",
    "\n",
    "def totalLen(phrase):\n",
    "    return int(len(phrase)/10)\n",
    "    \n",
    "                \n",
    "    "
   ]
  },
  {
   "cell_type": "code",
   "execution_count": 109,
   "metadata": {
    "collapsed": false
   },
   "outputs": [],
   "source": [
    "for word in word_feature:\n",
    "        (word in set())"
   ]
  },
  {
   "cell_type": "code",
   "execution_count": 110,
   "metadata": {
    "collapsed": false
   },
   "outputs": [],
   "source": [
    "def document_features_old(context, phrase, word_feature):\n",
    "    doci, i = getContentIndex(context, phrase)\n",
    "    \n",
    "    context = context[i]\n",
    "    document_words = set(phrase.split())\n",
    "    features = {}\n",
    "    for word in word_feature:\n",
    "        features['contains(%s)' % word] = (word in document_words)\n",
    "    features['isnumeric'] = is_number(phrase)\n",
    "    features['hasANumberInIt'] = hasNumber(phrase)\n",
    "    features['firstLetterCapital'] = firstWordisCapital(phrase)\n",
    "    features['ratioOfCaptialLetters'] = ratioOfCaptialLetters(phrase)\n",
    "    features['numberOfWords'] = numberOfWords(phrase)\n",
    "    features['startsWithNumber'] = is_number(phrase[0])\n",
    "    features['totalLength'] = totalLen(phrase)\n",
    "    features['oneWord'] = oneWord(phrase)\n",
    "    \n",
    "    if doci != 0:\n",
    "        phrasebefore = context[doci-1]\n",
    "        document_words = set(phrasebefore)\n",
    "        #for word in word_feature:\n",
    "            #features['phraseBeforeContains(%s)' % word] = (word in set(document_words))\n",
    "        features['isnumericBefore'] = is_number(phrasebefore)\n",
    "        features['hasANumberInItBefore'] = hasNumber(phrasebefore)\n",
    "        features['firstLetterCapitalBefore'] = firstWordisCapital(phrasebefore)\n",
    "        features['ratioOfCaptialLettersBefore'] = ratioOfCaptialLetters(phrasebefore)\n",
    "        features['numberOfWordsBefore'] = numberOfWords(phrasebefore)\n",
    "        features['startsWithNumberBefore'] = is_number(phrasebefore[0])\n",
    "        features['totalLengthBefore'] = totalLen(phrasebefore)\n",
    "        features['oneWordBefore'] = oneWord(phrasebefore)\n",
    "        \n",
    "    \n",
    "    if doci + 1 < len(context):\n",
    "        phraseafter = context[doci+1]\n",
    "        document_words = set(phraseafter)\n",
    "        #for word in word_feature:\n",
    "            #features['phraseAfterContains(%s)' % word] = (word in set(document_words))\n",
    "        features['isnumericAfter'] = is_number(phraseafter)\n",
    "        features['hasANumberInItAfter'] = hasNumber(phraseafter)\n",
    "        features['firstLetterCapitalAfter'] = firstWordisCapital(phraseafter)\n",
    "        features['ratioOfCaptialLettersAfter'] = ratioOfCaptialLetters(phraseafter)\n",
    "        features['numberOfWordsAfter'] = numberOfWords(phraseafter)\n",
    "        features['startsWithNumberAfter'] = is_number(phraseafter[0])\n",
    "        features['totalLengthAfter'] = totalLen(phraseafter)\n",
    "        features['oneWordAfter'] = oneWord(phraseafter)\n",
    "    if doci + 2 < len(context):\n",
    "        phraseafter = context[doci+2]\n",
    "        document_words = set(phraseafter)\n",
    "        #for word in word_feature:\n",
    "            #features['phraseAfter2Contains(%s)' % word] = (word in set(document_words))\n",
    "        features['isnumericAfter2'] = is_number(phraseafter)\n",
    "        features['hasANumberInItAfter2'] = hasNumber(phraseafter)\n",
    "        features['firstLetterCapitalAfter2'] = firstWordisCapital(phraseafter)\n",
    "        features['ratioOfCaptialLettersAfter2'] = ratioOfCaptialLetters(phraseafter)\n",
    "        features['numberOfWordsAfter2'] = numberOfWords(phrase)\n",
    "        features['totalLengthAfter2'] = totalLen(phraseafter)\n",
    "        features['oneWordAfter2'] = oneWord(phraseafter)\n",
    "    if doci + 3 < len(context):\n",
    "        phraseafter = context[doci+3]\n",
    "        document_words = set(phraseafter)\n",
    "        #for word in word_feature:\n",
    "            #features['phraseAfter3Contains(%s)' % word] = (word in set(document_words))\n",
    "        features['isnumericAfter3'] = is_number(phraseafter)\n",
    "        features['hasANumberInItAfter3'] = hasNumber(phraseafter)\n",
    "        features['firstLetterCapitalAfter3'] = firstWordisCapital(phraseafter)\n",
    "        features['ratioOfCaptialLettersAfter3'] = ratioOfCaptialLetters(phraseafter)\n",
    "        features['numberOfWordsAfter3'] = numberOfWords(phraseafter)\n",
    "        features['totalLengthAfter3'] = totalLen(phraseafter)\n",
    "        \n",
    "        \n",
    "    return features"
   ]
  },
  {
   "cell_type": "code",
   "execution_count": 111,
   "metadata": {
    "collapsed": true
   },
   "outputs": [],
   "source": [
    "def document_features(context, phrase, word_feature):\n",
    "    ## context is the 'listterms' which is a list of 3 lists\n",
    "\n",
    "    doci, context = getContentIndex(context, phrase)\n",
    "    document_words = set(phrase.split())\n",
    "    features = {}\n",
    "    for word in word_feature:\n",
    "        features['contains(%s)' % word] = (word in document_words)\n",
    "    features['isnumeric'] = is_number(phrase)\n",
    "    features['hasANumberInIt'] = hasNumber(phrase)\n",
    "    features['firstLetterCapital'] = firstWordisCapital(phrase)\n",
    "    features['ratioOfCaptialLetters'] = ratioOfCaptialLetters(phrase)\n",
    "    features['numberOfWords'] = numberOfWords(phrase)\n",
    "    features['startsWithNumber'] = is_number(phrase[0])\n",
    "    features['totalLength'] = totalLen(phrase)\n",
    "    features['oneWord'] = oneWord(phrase)\n",
    "    \n",
    "    if doci != 0:\n",
    "        phrasebefore = context[doci-1]\n",
    "        document_words = set(phrasebefore.split())\n",
    "        #for word in word_feature:\n",
    "            #features['phraseBeforeContains(%s)' % word] = (word in set(document_words))\n",
    "        features['isnumericBefore'] = is_number(phrasebefore)\n",
    "        features['hasANumberInItBefore'] = hasNumber(phrasebefore)\n",
    "        features['firstLetterCapitalBefore'] = firstWordisCapital(phrasebefore)\n",
    "        features['ratioOfCaptialLettersBefore'] = ratioOfCaptialLetters(phrasebefore)\n",
    "        features['numberOfWordsBefore'] = numberOfWords(phrasebefore)\n",
    "        features['startsWithNumberBefore'] = is_number(phrasebefore[0])\n",
    "        features['totalLengthBefore'] = totalLen(phrasebefore)\n",
    "        features['oneWordBefore'] = oneWord(phrasebefore)\n",
    "    if doci + 1 < len(context):\n",
    "        phraseafter = context[doci+1]\n",
    "        document_words = set(phraseafter.split())\n",
    "        #for word in word_feature:\n",
    "            #features['phraseAfterContains(%s)' % word] = (word in set(document_words))\n",
    "        features['isnumericAfter'] = is_number(phraseafter)\n",
    "        features['hasANumberInItAfter'] = hasNumber(phraseafter)\n",
    "        features['firstLetterCapitalAfter'] = firstWordisCapital(phraseafter)\n",
    "        features['ratioOfCaptialLettersAfter'] = ratioOfCaptialLetters(phraseafter)\n",
    "        features['numberOfWordsAfter'] = numberOfWords(phraseafter)\n",
    "        features['startsWithNumberAfter'] = is_number(phraseafter[0])\n",
    "        features['totalLengthAfter'] = totalLen(phraseafter)\n",
    "        features['oneWordAfter'] = oneWord(phraseafter)\n",
    "    return features"
   ]
  },
  {
   "cell_type": "code",
   "execution_count": 112,
   "metadata": {
    "collapsed": true
   },
   "outputs": [],
   "source": [
    "def document_features(context, phrase, word_feature):\n",
    "    ## context is the 'listterms' which is a list of 3 lists\n",
    "\n",
    "    document_words = set(phrase.split())\n",
    "    features = {}\n",
    "    for word in word_feature:\n",
    "        features['contains(%s)' % word] = (word in document_words)\n",
    "    features['isnumeric'] = is_number(phrase)\n",
    "    features['hasANumberInIt'] = hasNumber(phrase)\n",
    "    features['firstLetterCapital'] = firstWordisCapital(phrase)\n",
    "    features['ratioOfCaptialLetters'] = ratioOfCaptialLetters(phrase)\n",
    "    features['numberOfWords'] = numberOfWords(phrase)\n",
    "    features['startsWithNumber'] = is_number(phrase[0])\n",
    "    features['totalLength'] = totalLen(phrase)\n",
    "    features['oneWord'] = oneWord(phrase)\n",
    "    return features"
   ]
  },
  {
   "cell_type": "code",
   "execution_count": 113,
   "metadata": {
    "collapsed": true
   },
   "outputs": [],
   "source": [
    "d_phrases = {}\n",
    "for x in range(0, len(phrase)):\n",
    "    d_phrases[phrase[x]] = label[x]"
   ]
  },
  {
   "cell_type": "code",
   "execution_count": 114,
   "metadata": {
    "collapsed": false
   },
   "outputs": [
    {
     "data": {
      "text/plain": [
       "4177"
      ]
     },
     "execution_count": 114,
     "metadata": {},
     "output_type": "execute_result"
    }
   ],
   "source": [
    "random.shuffle(listterms)\n",
    "len(d_phrases)"
   ]
  },
  {
   "cell_type": "code",
   "execution_count": 115,
   "metadata": {
    "collapsed": false
   },
   "outputs": [
    {
     "data": {
      "text/plain": [
       "[['Deparment of Cardiology',\n",
       "  'Boston',\n",
       "  'MA',\n",
       "  'Boston',\n",
       "  'MA',\n",
       "  'Copenhagen',\n",
       "  'Boston',\n",
       "  'MA',\n",
       "  'Boston',\n",
       "  'MA',\n",
       "  'Harvard University',\n",
       "  'Cambridge',\n",
       "  'MA'],\n",
       " [],\n",
       " []]"
      ]
     },
     "execution_count": 115,
     "metadata": {},
     "output_type": "execute_result"
    }
   ],
   "source": [
    "listterms[0] ## each list has 3 lists (split by comma, semicolon, etc...)"
   ]
  },
  {
   "cell_type": "code",
   "execution_count": 116,
   "metadata": {
    "collapsed": false
   },
   "outputs": [],
   "source": [
    "featuresets = []\n",
    "phrasesLookedUp = []\n",
    "for x in listterms:\n",
    "    for y in x:\n",
    "        for z in y:\n",
    "            if z in d_phrases:\n",
    "                featuresets.append([document_features(x, z, word_feature), d_phrases[z]]) \n",
    "                phrasesLookedUp.append(z)\n"
   ]
  },
  {
   "cell_type": "code",
   "execution_count": 117,
   "metadata": {
    "collapsed": false
   },
   "outputs": [],
   "source": [
    "train_set, test_set = featuresets[2500:], featuresets[:2500]\n",
    "classifier = nltk.NaiveBayesClassifier.train(train_set)"
   ]
  },
  {
   "cell_type": "code",
   "execution_count": 118,
   "metadata": {
    "collapsed": false
   },
   "outputs": [
    {
     "name": "stdout",
     "output_type": "stream",
     "text": [
      "0.9508\n"
     ]
    }
   ],
   "source": [
    "## achieve 90% accuracy\n",
    "print nltk.classify.accuracy(classifier, test_set)"
   ]
  },
  {
   "cell_type": "code",
   "execution_count": 119,
   "metadata": {
    "collapsed": false
   },
   "outputs": [
    {
     "data": {
      "text/plain": [
       "0.9272"
      ]
     },
     "execution_count": 119,
     "metadata": {},
     "output_type": "execute_result"
    }
   ],
   "source": [
    "## 92% of the test set are not instituions.  At first this seems like bad news.\n",
    "## But look at errors below\n",
    "c = 0\n",
    "for x in test_set:\n",
    "    if x[1] == 's':\n",
    "        c += 1\n",
    "1-float(c)/len(test_set)"
   ]
  },
  {
   "cell_type": "code",
   "execution_count": 120,
   "metadata": {
    "collapsed": false
   },
   "outputs": [
    {
     "name": "stdout",
     "output_type": "stream",
     "text": [
      "Most Informative Features\n",
      "   ratioOfCaptialLetters = 6                   g : s      =     76.9 : 1.0\n",
      "       contains(Biology) = True                g : s      =     63.2 : 1.0\n",
      "      contains(Sciences) = True                g : s      =     58.2 : 1.0\n",
      "    contains(Technology) = True                s : g      =     40.5 : 1.0\n",
      "    contains(University) = True                s : g      =     22.6 : 1.0\n",
      "           numberOfWords = 4                   g : s      =     22.1 : 1.0\n",
      "             totalLength = 6                   g : s      =     17.3 : 1.0\n",
      "           contains(for) = True                g : s      =     14.9 : 1.0\n",
      "        contains(School) = True                s : g      =     13.0 : 1.0\n",
      "        contains(Health) = True                s : g      =     11.1 : 1.0\n",
      "          contains(Life) = True                g : s      =     10.7 : 1.0\n",
      "      contains(Research) = True                g : s      =     10.4 : 1.0\n",
      "   ratioOfCaptialLetters = 17                  s : g      =      9.1 : 1.0\n",
      "           numberOfWords = 5                   g : s      =      9.1 : 1.0\n",
      "      contains(National) = True                s : g      =      8.5 : 1.0\n",
      "     contains(Institute) = True                s : g      =      8.0 : 1.0\n",
      "        contains(Centre) = True                g : s      =      8.0 : 1.0\n",
      "       contains(Science) = True                g : s      =      7.8 : 1.0\n",
      "           contains(and) = True                g : s      =      6.8 : 1.0\n",
      "     contains(Molecular) = True                g : s      =      6.2 : 1.0\n",
      "             totalLength = 3                   s : g      =      5.6 : 1.0\n",
      "             totalLength = 7                   g : s      =      5.4 : 1.0\n",
      "    contains(California) = True                g : s      =      4.4 : 1.0\n",
      "       contains(Medical) = True                s : g      =      4.3 : 1.0\n",
      "             totalLength = 4                   g : s      =      3.7 : 1.0\n",
      "         contains(China) = True                s : g      =      3.3 : 1.0\n",
      "           contains(New) = True                g : s      =      3.2 : 1.0\n",
      "       contains(College) = True                g : s      =      2.9 : 1.0\n",
      "   ratioOfCaptialLetters = 7                   s : g      =      2.8 : 1.0\n",
      "           numberOfWords = 2                   s : g      =      2.7 : 1.0\n"
     ]
    }
   ],
   "source": [
    "classifier.show_most_informative_features(30)"
   ]
  },
  {
   "cell_type": "code",
   "execution_count": 121,
   "metadata": {
    "collapsed": false
   },
   "outputs": [],
   "source": [
    "errors = []\n",
    "i = 0\n",
    "for (name, tag) in test_set:\n",
    "    guess = classifier.classify(name)\n",
    "    phrase1 = phrasesLookedUp[i]\n",
    "    if guess != tag:\n",
    "        errors.append( (tag, guess, phrase1) )\n",
    "    i += 1"
   ]
  },
  {
   "cell_type": "code",
   "execution_count": 122,
   "metadata": {
    "collapsed": false
   },
   "outputs": [
    {
     "data": {
      "text/plain": [
       "[('s', 'g', 'Changzheng Hospital'),\n",
       " ('g', 's', 'East China University of Science and Technology'),\n",
       " ('g', 's', 'College of Veterinary Medicine'),\n",
       " ('g', 's', 'Central South University'),\n",
       " ('g', 's', 'Carnegie Institution of Science'),\n",
       " ('g', 's', 'Charite Universitatsmedizin Berlin'),\n",
       " ('g', 's', 'China Shanghai Institute of Pharmaceutical Industry'),\n",
       " ('g', 's', 'Broad Institute of MIT and Harvard'),\n",
       " ('s', 'g', 'Denmark Max Planck Institute for Informatics'),\n",
       " ('g', 's', 'Eastern Virginia Medical School'),\n",
       " ('s', 'g', 'Berkeley'),\n",
       " ('s', 'g', 'Mayo Clinic'),\n",
       " ('g', 's', 'Atomic Bomb Disease Institute'),\n",
       " ('g', 's', 'Beth Israel Deaconess Medical Center'),\n",
       " ('s', 'g', 'New York Law School'),\n",
       " ('g', 's', 'Azabu University'),\n",
       " ('g', 's', 'Center of Infection Medicine'),\n",
       " ('g', 's', 'Baylor College of Medicine'),\n",
       " ('g', 's', 'Academic Medical Center'),\n",
       " ('g', 's', 'New York Institute of Technology'),\n",
       " ('g', 's', 'Charles Sturt UniversityOrange'),\n",
       " ('g', 's', 'Cornell University'),\n",
       " ('s', 'g', 'Massachusetts General Hospital and Harvard Medical School'),\n",
       " ('g', 's', 'Cluster of Excellence CellNetworks')]"
      ]
     },
     "execution_count": 122,
     "metadata": {},
     "output_type": "execute_result"
    }
   ],
   "source": [
    "## My main erors appear to be mis labeled as instituions --by me!-- and vice versa\n",
    "## and the classifier has correctly labeled them..\n",
    "## However, the classifier also likes to label cities as schools, despite they being a \n",
    "## single word...\n",
    "list(set(errors))"
   ]
  },
  {
   "cell_type": "code",
   "execution_count": null,
   "metadata": {
    "collapsed": true
   },
   "outputs": [],
   "source": []
  },
  {
   "cell_type": "code",
   "execution_count": 123,
   "metadata": {
    "collapsed": true
   },
   "outputs": [],
   "source": [
    "## below is used to see what is marked as an institution\n",
    "sguess = []\n",
    "i = 0\n",
    "for (name, tag) in test_set:\n",
    "    guess = classifier.classify(name)\n",
    "    phrase2 = phrasesLookedUp[i]\n",
    "    if tag == 's':\n",
    "        sguess.append( (tag, guess, phrase2) )\n",
    "    i += 1"
   ]
  },
  {
   "cell_type": "code",
   "execution_count": 124,
   "metadata": {
    "collapsed": false
   },
   "outputs": [],
   "source": [
    "## lets see how a decision tree does\n",
    "classifier_dt = nltk.classify.DecisionTreeClassifier.train(train_set)"
   ]
  },
  {
   "cell_type": "code",
   "execution_count": 125,
   "metadata": {
    "collapsed": false
   },
   "outputs": [
    {
     "name": "stdout",
     "output_type": "stream",
     "text": [
      "0.9548\n"
     ]
    }
   ],
   "source": [
    "## this error rate looks a bit better than for the bayes.\n",
    "print nltk.classify.accuracy(classifier_dt, test_set)"
   ]
  },
  {
   "cell_type": "code",
   "execution_count": 126,
   "metadata": {
    "collapsed": false
   },
   "outputs": [
    {
     "data": {
      "text/plain": [
       "[('s', 'g', 'Changzheng Hospital'),\n",
       " ('g', 's', 'East China University of Science and Technology'),\n",
       " ('g', 's', 'College of Veterinary Medicine'),\n",
       " ('g', 's', 'Central South University'),\n",
       " ('g', 's', 'Carnegie Institution of Science'),\n",
       " ('g', 's', 'Charite Universitatsmedizin Berlin'),\n",
       " ('g', 's', 'China Shanghai Institute of Pharmaceutical Industry'),\n",
       " ('g', 's', 'Broad Institute of MIT and Harvard'),\n",
       " ('s', 'g', 'Denmark Max Planck Institute for Informatics'),\n",
       " ('g', 's', 'Eastern Virginia Medical School'),\n",
       " ('s', 'g', 'Berkeley'),\n",
       " ('s', 'g', 'Mayo Clinic'),\n",
       " ('g', 's', 'Atomic Bomb Disease Institute'),\n",
       " ('g', 's', 'Beth Israel Deaconess Medical Center'),\n",
       " ('s', 'g', 'New York Law School'),\n",
       " ('g', 's', 'Azabu University'),\n",
       " ('g', 's', 'Center of Infection Medicine'),\n",
       " ('g', 's', 'Baylor College of Medicine'),\n",
       " ('g', 's', 'Academic Medical Center'),\n",
       " ('g', 's', 'New York Institute of Technology'),\n",
       " ('g', 's', 'Charles Sturt UniversityOrange'),\n",
       " ('g', 's', 'Cornell University'),\n",
       " ('s', 'g', 'Massachusetts General Hospital and Harvard Medical School'),\n",
       " ('g', 's', 'Cluster of Excellence CellNetworks')]"
      ]
     },
     "execution_count": 126,
     "metadata": {},
     "output_type": "execute_result"
    }
   ],
   "source": [
    "## I see a lot of reasonable corrections to my assignments, so the \n",
    "## classifier is doing a better job than I.  Plus I don't see\n",
    "## cities being named as institutions.  \n",
    "\n",
    "errors = []\n",
    "i = 0\n",
    "for (name, tag) in test_set:\n",
    "    guess = classifier.classify(name)\n",
    "    phrase3 = phrasesLookedUp[i]\n",
    "    if guess != tag:\n",
    "        errors.append( (tag, guess, phrase3) )\n",
    "    i += 1\n",
    "\n",
    "list(set(errors))"
   ]
  },
  {
   "cell_type": "code",
   "execution_count": 127,
   "metadata": {
    "collapsed": true
   },
   "outputs": [],
   "source": [
    "## At this point, I think the decision tree is better"
   ]
  },
  {
   "cell_type": "code",
   "execution_count": 128,
   "metadata": {
    "collapsed": true
   },
   "outputs": [],
   "source": [
    "def splitIntoPhrases(affiliation):\n",
    "    '''this long function is need to take each affilation string, and break it down into all its \n",
    "    possible deliminated pieces, and then take those and convert it to a list of 'phrases', one or more \n",
    "    of these phrases being a poissible institution name'''\n",
    "    \n",
    "    splitcomma = []\n",
    "    splitperiod = []\n",
    "    splitsemicolon = []\n",
    "    splitspace = []\n",
    "    if len(affiliation) > 1:\n",
    "        #print (x)\n",
    "        s = affiliation[1]\n",
    "        s = s[:-1]\n",
    "        \n",
    "        t = s.split(\",\")\n",
    "        if len(t)>2:\n",
    "            t = t[:-2]  # remove journal names\n",
    "        else:\n",
    "            t = \" \"\n",
    "        for x in range(0, len(t)):\n",
    "            if isinstance(t[x], str):\n",
    "                t[x] = str(t[x]).lstrip()\n",
    "                t[x] = str(t[x]).rstrip()\n",
    "        splitcomma.append(t)\n",
    "        t = s.split(\".\")\n",
    "        for x in range(0, len(t)):\n",
    "            if isinstance(t[x], str):\n",
    "                t[x] = str(t[x]).lstrip()\n",
    "                t[x] = str(t[x]).rstrip()\n",
    "        splitperiod.append(t)\n",
    "        t = s.split(\";\")\n",
    "        for x in range(0, len(t)):\n",
    "            if isinstance(t[x], str):\n",
    "                t[x] = str(t[x]).lstrip()\n",
    "                t[x] = str(t[x]).rstrip()\n",
    "        splitsemicolon.append(t)\n",
    "        t = s.split(\" \")\n",
    "        for x in range(0, len(t)):\n",
    "            if isinstance(t[x], str):\n",
    "                t[x] = str(t[x]).lstrip()\n",
    "                t[x] = str(t[x]).rstrip()\n",
    "        splitspace.append(t)\n",
    "    else:\n",
    "        splitcomma.append(\"\")\n",
    "        splitperiod.append(\"\")\n",
    "        splitsemicolon.append(\"\")\n",
    "        splitspace.append(\"\")  ## not used\n",
    "    listterms = []\n",
    "    \n",
    "    for x in range(0, len(splitcomma)):\n",
    "        temp = []\n",
    "        t = []\n",
    "        for y in splitcomma[x]:\n",
    "            if not stringHasPunct(y):\n",
    "                t.append(y)\n",
    "        temp.append(t)\n",
    "        t = []\n",
    "        for y in splitsemicolon[x]:\n",
    "            if not stringHasPunct(y):\n",
    "                t.append(y)\n",
    "        temp.append(t)\n",
    "        t = []\n",
    "        for y in splitperiod[x]:\n",
    "            if not stringHasPunct(y):\n",
    "                t.append(y)\n",
    "        temp.append(t)\n",
    "        listterms.append(temp)\n",
    "    return listterms"
   ]
  },
  {
   "cell_type": "code",
   "execution_count": 129,
   "metadata": {
    "collapsed": false
   },
   "outputs": [],
   "source": [
    "# I might as well train now on the full set of labeled data.\n",
    "classifier = nltk.NaiveBayesClassifier.train(featuresets)\n",
    "classifier_dt = nltk.classify.DecisionTreeClassifier.train(featuresets)"
   ]
  },
  {
   "cell_type": "code",
   "execution_count": 130,
   "metadata": {
    "collapsed": false
   },
   "outputs": [],
   "source": [
    "c = 0\n",
    "predictions = []\n",
    "for x in pubs:\n",
    "    listphrases = splitIntoPhrases(x)\n",
    "    t = []\n",
    "    for i in listphrases:\n",
    "        for j in i:\n",
    "            for k in j:\n",
    "                p = classifier_dt.classify(document_features(x, k, word_feature))\n",
    "                if p == 's':  \n",
    "                    t.append(k)\n",
    "                else:\n",
    "                    t.append('NA')\n",
    "    predictions.append(t)\n",
    "    c += 1"
   ]
  },
  {
   "cell_type": "code",
   "execution_count": 131,
   "metadata": {
    "collapsed": false
   },
   "outputs": [],
   "source": [
    "affiliations = []\n",
    "for x in predictions:\n",
    "    affiliations.append(list(set(x)))"
   ]
  },
  {
   "cell_type": "code",
   "execution_count": 132,
   "metadata": {
    "collapsed": true
   },
   "outputs": [],
   "source": [
    "for x in affiliations:\n",
    "    if 'NA' in x:\n",
    "        x.remove('NA')"
   ]
  },
  {
   "cell_type": "code",
   "execution_count": 133,
   "metadata": {
    "collapsed": false
   },
   "outputs": [
    {
     "data": {
      "text/plain": [
       "[['Shanghai Jiao Tong University School of Medicine',\n",
       "  'University of California at San Diego'],\n",
       " [],\n",
       " [],\n",
       " ['University of Pennsylvania Perelman School of Medicine',\n",
       "  'Michigan State University',\n",
       "  'Kawasaki Medical School',\n",
       "  'Graduate School of Medicine',\n",
       "  'Kyoto University'],\n",
       " [],\n",
       " ['Creighton University'],\n",
       " ['Wageningen University', 'Faculty of Medicine University of Helsinki'],\n",
       " [],\n",
       " ['Tamagawa University', 'The University of Tokyo'],\n",
       " ['University of Turku and Abo Academy']]"
      ]
     },
     "execution_count": 133,
     "metadata": {},
     "output_type": "execute_result"
    }
   ],
   "source": [
    "affiliations[:10]"
   ]
  },
  {
   "cell_type": "code",
   "execution_count": 134,
   "metadata": {
    "collapsed": false
   },
   "outputs": [],
   "source": [
    "g1 = []\n",
    "for x in affiliations:\n",
    "    if len(x)>1:\n",
    "        for i in range(0, len(x)):\n",
    "            for j in range(i+1, len(x)):\n",
    "                g1.append([x[i], x[j]])"
   ]
  },
  {
   "cell_type": "code",
   "execution_count": 135,
   "metadata": {
    "collapsed": false
   },
   "outputs": [],
   "source": [
    "## Now save the undirected graph nodes\n",
    "f = open('IS620Project3.csv','w')\n",
    "for x in g1:\n",
    "    f.write(str(x[0]) + \",\" +  str(x[1]) + '\\n') \n",
    "f.close() \n"
   ]
  },
  {
   "cell_type": "code",
   "execution_count": 136,
   "metadata": {
    "collapsed": false
   },
   "outputs": [
    {
     "name": "stdout",
     "output_type": "stream",
     "text": [
      "('India School of Life Sciences', 'Jawaharlal Nehru University')\n",
      "('Michigan Technological University', 'Shenzhen University')\n",
      "('Michigan Technological University', 'Gautam Buddha University')\n",
      "('Michigan Technological University', 'Henan Agricultural University')\n",
      "('ShanghaiTech University', 'Third Military Medical University')\n",
      "('ShanghaiTech University', 'Seoul National University')\n",
      "('ShanghaiTech University', 'Yulin University')\n",
      "('ShanghaiTech University', 'Nanjing Medical University')\n",
      "('ShanghaiTech University', 'National Institutes of Health')\n",
      "('ShanghaiTech University', 'University of Chinese Academy of Sciences')\n",
      "('ShanghaiTech University', 'Model Animal Research Center of Nanjing University')\n",
      "('ShanghaiTech University', 'Shanghai University of Traditional Chinese Medicine')\n",
      "('ShanghaiTech University', 'Nanjing University')\n",
      "('Tokushima University Graduate School', 'Osaka University')\n",
      "('Tokushima University Graduate School', 'Graduate School of Frontier Biosciences')\n",
      "('Tokushima University Graduate School', 'Nihon University')\n",
      "('Tokushima University Graduate School', 'Tokushima University')\n",
      "('Dankook University', 'National Institutes of Health')\n",
      "('The University of Georgia', 'Vanderbilt University')\n",
      "('Nagasaki University', 'Graduate School of Medicine')\n",
      "('Nagasaki University', 'The University of Tokyo')\n",
      "('Nagasaki University', 'Kyoto University')\n",
      "('Nagasaki University', 'Fujita Health University School of Medicine')\n",
      "('Nagasaki University', 'Hokkaido University')\n",
      "('University of Southern California Los Angeles', 'Keck School of Medicine')\n",
      "('University of Southern California Los Angeles', 'Hanyang University')\n",
      "('University of Southern California Los Angeles', 'Seoul National University')\n",
      "('Ehime University', 'Southwest University')\n",
      "('Utrecht University Medical Center', 'Harvard Medical School')\n",
      "('Utrecht University Medical Center', 'Harvard University')\n",
      "('University of Wisconsin Law School', 'Harvard Medical School')\n",
      "('University of Wisconsin Law School', 'California Institute of Technology')\n",
      "('University of Wisconsin Law School', 'University of Utah School of Medicine')\n",
      "('The University of Adelaide', 'Harvard Medical School')\n",
      "('Xinxiang Medical University', 'Zhengzhou University of Light Industry')\n",
      "('Xinxiang Medical University', 'Henan University of Science and Technology')\n",
      "('Xinxiang Medical University', 'Zhengzhou University')\n",
      "('Masaryk University', 'Palacky University Olomouc')\n",
      "('Soochow University', 'Fukuoka University')\n",
      "('Soochow University', 'University of California Davis')\n",
      "('Soochow University', 'Nanjing Medical University')\n",
      "('Soochow University', 'Washington University School of Medicine')\n",
      "('Soochow University', 'Zhengzhou University')\n",
      "('Soochow University', 'Queen Mary University of London')\n",
      "('Soochow University', 'Model Animal Research Center of Nanjing University')\n",
      "('Soochow University', 'Nanjing University')\n",
      "('Case Western Reserve University', 'Temple University School of Medicine')\n",
      "('Case Western Reserve University', 'Sichuan University')\n",
      "('University Hospital', 'Hannover Medical School')\n",
      "('University Hospital', 'North Carolina State University')\n",
      "('The Johns Hopkins University School of Medicine', 'Southern Illinois University School of Medicine')\n",
      "('Sydney Medical School', 'The University of Sydney')\n",
      "('University of Sao Paulo', 'Keck School of Medicine')\n",
      "('University of Sao Paulo', 'Lund University')\n",
      "('University of Sao Paulo', 'University of Southern California Norris Comprehensive Cancer Center')\n",
      "('Texas Tech University Health Sciences Center', 'Aarhus University')\n",
      "('Texas Tech University Health Sciences Center', 'Stanford University')\n",
      "('Texas Tech University Health Sciences Center', 'Cornell University')\n",
      "('University of Pennsylvania Perelman School of Medicine', 'Kawasaki Medical School')\n",
      "('University of Pennsylvania Perelman School of Medicine', 'New York University Langone School of Medicine')\n",
      "('University of Pennsylvania Perelman School of Medicine', 'Michigan State University')\n",
      "('University of Pennsylvania Perelman School of Medicine', 'Kyoto University')\n",
      "('University of Pennsylvania Perelman School of Medicine', 'Graduate School of Medicine')\n",
      "('Shandong University', 'QiLu Normal University')\n",
      "('Shandong University', 'Shenzhen University 1stAffiliated Hospital')\n",
      "('Shandong University', 'Columbia University')\n",
      "('Oxford University', 'Pennsylvania State University')\n",
      "('Oxford University', 'Perelman School of Medicine')\n",
      "('Oxford University', 'Indiana University School of Medicine')\n",
      "('Oxford University', 'University Park')\n",
      "('Yale University School of Medicine', 'University of Connecticut Health Center')\n",
      "('Yale University School of Medicine', 'Yale University')\n",
      "('Yale University School of Medicine', 'Perelman School of Medicine')\n",
      "('National Taiwan University College of Life Science', 'National Taiwan University College of Medicine')\n",
      "('National Taiwan University College of Life Science', 'National Taiwan University Hospital')\n",
      "('Anhui Medical University', 'The Genitourinary Institution of Shenzhen University')\n",
      "('Anhui Medical University', 'The First Affiliated Hospital of Shenzhen University')\n",
      "('Harvard Medical School and Massachusetts General Hospital', 'School of Clinical Medicine')\n",
      "('Harvard Medical School and Massachusetts General Hospital', 'University College London')\n",
      "('Tongji University', 'University of California Los Angeles')\n",
      "('Tongji University', 'Tongji University School of Medicine')\n",
      "('Tongji University', 'Nantong University')\n",
      "('Tongji University', 'Massachusetts Institute of Technology')\n",
      "('Tongji University', 'Wenzhou Medical University')\n",
      "('Tongji University', 'Nanjing Medical University')\n",
      "('Tongji University', 'Harvard Medical School')\n",
      "('Tongji University', 'Zhejiang University')\n",
      "('Tongji University', 'Shanghai Jiao Tong University')\n",
      "('Tongji University', 'Perelman School of Medicine')\n",
      "('Tongji University', 'South Dakota State University')\n",
      "('Tongji University', 'Harvard University')\n",
      "('Tongji University', 'David Geffen School of Medicine')\n",
      "('Tongji University', 'The First Affiliated Hospital of Zhengzhou University')\n",
      "('Tongji University', 'Guangzhou Medical University')\n",
      "('Tongji University', 'the Ohio State University')\n",
      "('Hubei University of Medicine', 'Fudan University')\n",
      "('Hubei University of Medicine', 'Tongji University School of Medicine')\n",
      "('Hubei University of Medicine', 'Nanjing Medical University')\n",
      "('Hubei University of Medicine', 'Zhongnan Hospital of Wuhan University')\n",
      "('Hubei University of Medicine', 'The Ohio State University Wexner Medical Center')\n",
      "('Nanjing Medical University', 'Fukuoka University')\n",
      "('Nanjing Medical University', 'Hunan Normal University')\n",
      "('Nanjing Medical University', 'Northeast Agricultural University of China')\n",
      "('Nanjing Medical University', 'Tongji University School of Medicine')\n",
      "('Nanjing Medical University', 'Guangxi University')\n",
      "('Nanjing Medical University', 'First Affiliated Hospital of Shenzhen University')\n",
      "('Nanjing Medical University', 'Wenzhou Medical University')\n",
      "('Nanjing Medical University', 'Augusta University')\n",
      "('Nanjing Medical University', 'Third Military Medical University')\n",
      "('Nanjing Medical University', 'Soochow University School of Medicine')\n",
      "('Nanjing Medical University', 'Kunming University of Science and Technology')\n",
      "('Nanjing Medical University', 'University of California Davis')\n",
      "('Nanjing Medical University', 'Model Animal Research Center of Nanjing University')\n",
      "('Nanjing Medical University', 'Fudan University')\n",
      "('Nanjing Medical University', 'Inner Mongolia University')\n",
      "('Nanjing Medical University', 'Nanjing University')\n",
      "('Shanghai Ocean University', 'Huazhong Agricultural University')\n",
      "('Shanghai Ocean University', 'Michigan State University')\n",
      "('Peking University', 'China West Normal University')\n",
      "('Peking University', 'Shanghai Tech University')\n",
      "('Peking University', 'Johns Hopkins University School of Medicine')\n",
      "('Peking University', 'Peking University Shenzhen Graduate School')\n",
      "('Peking University', 'Tsinghua University')\n",
      "('Peking University', 'Institute of Computing Technology')\n",
      "('Peking University', 'Model Animal Research Center of Nanjing University')\n",
      "('Peking University', 'University of Maryland Dental School')\n",
      "('Chongqing University', 'Third Military Medical University')\n",
      "('Chongqing University', 'Purdue University')\n",
      "('University of North Dakota', 'Sichuan University')\n",
      "('University of North Dakota', 'Nanjing University Medical School')\n",
      "('Fukuoka University', 'University of California Davis')\n",
      "('Fukuoka University', 'Nanjing University')\n",
      "('Heidelberg University Hospital', 'Heidelberg University')\n",
      "('University Hospital Freiburg', 'Georg August University')\n",
      "('University Hospital Freiburg', 'Danish Technical University')\n",
      "('University Hospital Freiburg', 'The Norwegian University of Life Sciences')\n",
      "('University Hospital Freiburg', 'Justus Liebig University Giessen')\n",
      "('University Hospital Freiburg', 'Free University Berlin')\n",
      "('New York University', 'New York University School of Medicine')\n",
      "('New York University', 'Massachusetts Institute of Technology')\n",
      "('New York University', 'Johns Hopkins University School of Medicine')\n",
      "('New York University', 'The Ohio State University')\n",
      "('New York University', 'North Carolina State University')\n",
      "('New York University', 'Zhejiang University')\n",
      "('New York University', 'Inner Mongolia Agricultural University')\n",
      "('New York University', 'Wageningen University')\n",
      "('New York University', 'University College Cork')\n",
      "('Zhejiang Gongshang University', 'Henan University of Science and Technology')\n",
      "('Zhejiang Gongshang University', 'Zhejiang University')\n",
      "('The Second Xiangya Hospital of Central South University', 'Louisiana State University Health Sciences Center')\n",
      "('Bielefeld University', 'Massachusetts Institute of Technology')\n",
      "('Monash University', 'University of California Santa Barbara')\n",
      "('Monash University', 'Cornell University')\n",
      "('Monash University', 'University of Western Australia')\n",
      "('Monash University', 'Indiana University School of Medicine')\n",
      "('Monash University', 'The University of Melbourne')\n",
      "('Monash University', 'Jinan University')\n",
      "('Monash University', 'Mahidol University')\n",
      "('Tel Aviv University', 'Sackler School of Medicine')\n",
      "('Tel Aviv University', 'National Institutes of Health')\n",
      "('Tel Aviv University', 'Umea University')\n",
      "('The Chinese University of Hong Kong', 'University Medical Centre Utrecht')\n",
      "('The Chinese University of Hong Kong', 'Anhui University')\n",
      "('The Chinese University of Hong Kong', 'East China Normal University')\n",
      "('The Chinese University of Hong Kong', 'National Institutes of Health')\n",
      "('The Chinese University of Hong Kong', 'Southern Medical University')\n",
      "('The Chinese University of Hong Kong', 'Zhejiang University')\n",
      "('The Chinese University of Hong Kong', 'The University of Hong Kong')\n",
      "('The Chinese University of Hong Kong', 'Ji Nan University')\n",
      "('The Chinese University of Hong Kong', 'Fudan University')\n",
      "('The Chinese University of Hong Kong', 'Medical School')\n",
      "('Tokyo Medical and Dental University', 'Niigata University School of Medicine')\n",
      "('Tokyo Medical and Dental University', 'Tokai University')\n",
      "('Tokyo Medical and Dental University', 'Osaka University')\n",
      "('Tokyo Medical and Dental University', 'Hiroshima University')\n",
      "('Tokyo Medical and Dental University', 'Graduate School of Medicine')\n",
      "('Tokyo Medical and Dental University', 'Kyoto University')\n",
      "('University of Delaware Newark', 'Princeton University Princeton')\n",
      "('University of Delaware Newark', 'University of the Free State Bloemfontein')\n",
      "('Shanghai Jiaotong University', 'Wenzhou Medical University')\n",
      "('Shanghai Jiaotong University', 'Stanford University')\n",
      "('Shanghai Jiaotong University', 'Emory University School of Medicine')\n",
      "('Shanghai Jiaotong University', 'Zhejiang University')\n",
      "('Nantong University', 'Tongji University School of Medicine')\n",
      "('Nantong University', 'Zhejiang University')\n",
      "('Wayne State University', 'Florida State University')\n",
      "('Gautam Buddha University', 'Henan Agricultural University')\n",
      "('Graduate School of Frontier Biosciences', 'Nihon University')\n",
      "('Graduate School of Frontier Biosciences', 'Osaka University')\n",
      "('Graduate School of Frontier Biosciences', 'Akita University')\n",
      "('Graduate School of Frontier Biosciences', 'Graduate School of Medicine')\n",
      "('Graduate School of Frontier Biosciences', 'University Hospital Muenster')\n",
      "('Graduate School of Frontier Biosciences', 'Tokushima University')\n",
      "('Rush University', 'Harvard Medical School')\n",
      "('Rush University', 'Brown University')\n",
      "('Rush University', 'University of Vermont College of Medicine')\n",
      "('Brandeis University', 'Yonsei University')\n",
      "('Brandeis University', 'Hanyang University')\n",
      "('Brandeis University', 'Yonsei University College of Medicine')\n",
      "('Vanderbilt University', 'Harvard Medical School')\n",
      "('Vanderbilt University', 'Vanderbilt University School of Medicine')\n",
      "('Vanderbilt University', 'National Institutes of Health')\n",
      "('Boston University School of Medicine', 'Boston University School of Public Health')\n",
      "('Boston University School of Medicine', 'Boston University and Boston Medical Center')\n",
      "('Boston University School of Medicine', 'Massachusetts Institute of Technology')\n",
      "('Graduate School of Medical Sciences', 'Hokkaido University Graduate School of Medicine')\n",
      "('Graduate School of Medical Sciences', 'Kyushu University')\n",
      "('Graduate School of Medical Sciences', 'Kanazawa University')\n",
      "('University Medical Center Eppendorf', 'University Hospital and Medical Faculty Carl Gustav Carus')\n",
      "('Georgia Institute of Technology', 'Emory University School of Medicine')\n",
      "('Georgia Institute of Technology', 'Northwestern University')\n",
      "('Georgia Institute of Technology', 'Montana State University')\n",
      "('Georgia Institute of Technology', 'Rice University')\n",
      "('Jinan University', 'South China Agricultural University')\n",
      "('Jinan University', 'Kunming University of Science and Technology')\n",
      "('Jinan University', 'Massachusetts Institute of Technology')\n",
      "('Brigham Young University', 'Nevada Institute of Personalized Medicine and School of Life Sciences')\n",
      "('Midwestern University', 'The University of Oklahoma Health Sciences Center')\n",
      "('Hacettepe University Cancer Institute', 'Bilkent University')\n",
      "('Hacettepe University Cancer Institute', 'Hacettepe University')\n",
      "('University of Pittsburgh School of Medicine', 'Temple University School of Medicine')\n",
      "('University of Pittsburgh School of Medicine', 'University of Colorado School of Medicine')\n",
      "('Georg August University', 'The Norwegian University of Life Sciences')\n",
      "('Georg August University', 'Danish Technical University')\n",
      "('Georg August University', 'Justus Liebig University Giessen')\n",
      "('Georg August University', 'Free University Berlin')\n",
      "('The Rockefeller University', 'Istanbul Bilim University')\n",
      "('The Rockefeller University', 'Umea University')\n",
      "('The Rockefeller University', 'Massachusetts Institute of Technology')\n",
      "('The Rockefeller University', 'North Carolina State University')\n",
      "('The Rockefeller University', 'Harvard Medical School')\n",
      "('The Rockefeller University', 'Yale University')\n",
      "('The Rockefeller University', 'France Paris Descartes University')\n",
      "('City University of New York', 'Harvard Medical School')\n",
      "('Zhongshan School of Medicine', 'Central South University Changsha')\n",
      "('Zhongshan School of Medicine', 'Central South University')\n",
      "('Kyung Hee University', 'Yonsei University')\n",
      "('Kyung Hee University', 'Washington State University')\n",
      "('Kyung Hee University', 'Ewha Womans University School of Medicine')\n",
      "('Feng Chia University', 'National Cheng Kung University')\n",
      "('Feng Chia University', 'National Tsing Hua University')\n",
      "('Nagoya University', 'The University of Tokyo')\n",
      "('Graduate School of Medicine', 'Shinshu University')\n",
      "('Graduate School of Medicine', 'Hokkaido University')\n",
      "('Graduate School of Medicine', 'Interdisciplinary Graduate School of Medicine and Engineering')\n",
      "('Graduate School of Medicine', 'The State University of New Jersey')\n",
      "('Graduate School of Medicine', 'Tokushima University')\n",
      "('Graduate School of Medicine', 'Hoshi University')\n",
      "('Graduate School of Medicine', 'Kyoto University')\n",
      "('Graduate School of Medicine', 'Kawasaki Medical School')\n",
      "('Graduate School of Medicine', 'Tokai University')\n",
      "('Graduate School of Medicine', 'Fujita Health University School of Medicine')\n",
      "('Graduate School of Medicine', 'Keio University School of Medicine')\n",
      "('Graduate School of Medicine', 'The University of Tokyo')\n",
      "('Graduate School of Medicine', 'Akita University')\n",
      "('Graduate School of Medicine', 'Hokkaido University Graduate School of Medicine')\n",
      "('Graduate School of Medicine', 'Kagoshima University')\n",
      "('Graduate School of Medicine', 'Osaka University')\n",
      "('Graduate School of Medicine', 'Michigan State University')\n",
      "('Graduate School of Medicine', 'Niigata University')\n",
      "('Graduate School of Medicine', 'Queensland University of Technology')\n",
      "('Graduate School of Medicine', 'Hiroshima University')\n",
      "('Graduate School of Medicine', 'Okayama University')\n",
      "('Graduate School of Medicine', 'Chiba University')\n",
      "('University of Putra Malaysia', 'RMIT University')\n",
      "('University of Putra Malaysia', 'Deakin University')\n",
      "('University Hospital Muenster', 'Osaka University')\n",
      "('University Hospital Muenster', 'Sri Ramachandra University')\n",
      "('East Carolina University', 'Dokuz Eylul University')\n",
      "('East Carolina University', 'The Brody School of Medicine')\n",
      "('East Carolina University', 'North Carolina State University')\n",
      "('East Carolina University', 'Brody School of Medicine')\n",
      "('East Carolina University', 'Shanghai Jiao Tong University')\n",
      "('East Carolina University', 'Cankiri Karatekin University')\n",
      "('East Carolina University', 'Western Sydney University')\n",
      "('Istanbul Bilim University', 'Yale University')\n",
      "('Ulm University', 'Wageningen University')\n",
      "('Ulm University', 'Charles Sturt University')\n",
      "('Ulm University', 'University Medical Center Gottingen')\n",
      "('Ulm University', 'University Medical Center')\n",
      "('Ulm University', 'Goethe University')\n",
      "('Boston University School of Public Health', 'Boston University and Boston Medical Center')\n",
      "('Johns Hopkins University School of Medicine Baltimore', 'Johns Hopkins University School of Medicine')\n",
      "('Johns Hopkins University School of Medicine Baltimore', 'Johns Hopkins University')\n",
      "('Johns Hopkins University School of Medicine Baltimore', 'National Institutes of Health')\n",
      "('Kitasato University', 'Yokohama City University School of Medicine')\n",
      "('Kitasato University', 'Hiroshima University')\n",
      "('Kitasato University', 'Kwansei Gakuin University')\n",
      "('Cairo University', 'Federal University of Rio de Janeiro')\n",
      "('Cairo University', 'Radboud University')\n",
      "('Cairo University', 'North Carolina State University')\n",
      "('Cairo University', 'San Diego State University')\n",
      "('Rosalind Franklin University of Medicine and Science', 'Chicago Medical School')\n",
      "('The University of Hong Kong', 'Imperial College School of Medicine')\n",
      "('The University of Hong Kong', 'University Medical Centre Utrecht')\n",
      "('Huazhong University of Science and Technology', 'The Second Xiangya Hospital Central South University')\n",
      "('Huazhong University of Science and Technology', 'Renmin Hospital of Wuhan University')\n",
      "('Huazhong University of Science and Technology', 'David Geffen School of Medicine')\n",
      "('Huazhong University of Science and Technology', 'Central South University')\n",
      "('Huazhong University of Science and Technology', 'Massachusetts General Hospital and Harvard Medical School')\n",
      "('Huazhong University of Science and Technology', 'University of Miami Miller School of Medicine')\n",
      "('Huazhong University of Science and Technology', 'University Hospital of Essen')\n",
      "('Huazhong University of Science and Technology', 'Fudan University')\n",
      "('Huazhong University of Science and Technology', 'Wuhan University')\n",
      "('California Institute of Technology', 'Harvard Medical School')\n",
      "('California Institute of Technology', 'Yale University')\n",
      "('California Institute of Technology', 'Emory University School of Medicine')\n",
      "('California Institute of Technology', 'University of Utah School of Medicine')\n",
      "('Hunan Normal University', 'Northeast Agricultural University of China')\n",
      "('Hunan Normal University', 'University of New Mexico School of Medicine')\n",
      "('Charite Medical University Berlin', 'Hannover Medical School')\n",
      "('Cardiff University School of Medicine', 'Capital Medical University')\n",
      "('Cardiff University School of Medicine', 'Cardiff University')\n",
      "('Kumamoto University', 'Hiroshima University')\n",
      "('Kumamoto University', 'Hiroshima University Hospital')\n",
      "('Mie University Life Science Research Center', 'Mie University Industrial Technology Innovation Institute')\n",
      "('Mie University Life Science Research Center', 'Mie University Graduate School of Medicine')\n",
      "('Queen Mary University of London', 'Zhengzhou University')\n",
      "('Queen Mary University of London', 'University College London')\n",
      "('Harvard University and Harvard Medical School', 'Massachusetts Institute of Technology')\n",
      "('Ewha Womans University', 'Harvard Medical School')\n",
      "('Ewha Womans University', 'Hanyang University')\n",
      "('Ewha Womans University', 'Yonsei University College of Medicine')\n",
      "('Ewha Womans University', 'Seoul National University')\n",
      "('Yangtz University Jinzhou 43434025', 'Huazhong Agricultural University')\n",
      "('Dartmouth Geisel School of Medicine', 'Stanford University School of Medicine')\n",
      "('Louisiana State University', 'Huazhong Agricultural University')\n",
      "('Louisiana State University', 'School of Veterinary Medicine')\n",
      "('Qingdao University', 'Shihezi University')\n",
      "('Goethe University', 'University Medical Center Gottingen')\n",
      "('Goethe University', 'Heinrich Heine University')\n",
      "('Duke University Medical School', 'University of North Carolina')\n",
      "('Duke University Medical School', 'Northwestern University Feinberg School of Medicine')\n",
      "('Kunming University of Science and Technology', 'South China Agricultural University')\n",
      "('Kunming University of Science and Technology', 'Emory University School of Medicine')\n",
      "('Kunming University of Science and Technology', 'Massachusetts Institute of Technology')\n",
      "('Kunming University of Science and Technology', 'National Cheng Kung University')\n",
      "('Kunming University of Science and Technology', 'Model Animal Research Center of Nanjing University')\n",
      "('Kunming University of Science and Technology', 'Wuhan University')\n",
      "('Laval University', 'McGill University')\n",
      "('Laval University', 'SUNY Upstate Medical University')\n",
      "('Laval University', 'National Institutes of Health')\n",
      "('Southern University of Science and Technology', 'Washington University School of Medicine')\n",
      "('University of California Los Angeles', 'Tongji University School of Medicine')\n",
      "('University of California Los Angeles', 'Shanghai Jiao Tong University')\n",
      "('University of California Los Angeles', 'Stanford University School of Medicine')\n",
      "('University of California Los Angeles', 'David Geffen School of Medicine')\n",
      "('University of California Los Angeles', 'Icahn School of Medicine at Mount Sinai')\n",
      "('University of California Los Angeles', 'Sungkyunkwan University School of Medicine')\n",
      "('Chonnam National University', 'Wageningen University')\n",
      "('Chonnam National University', 'Jeju National University')\n",
      "('Chonnam National University', 'KonKuk University')\n",
      "('Michigan State University', 'North Carolina State University')\n",
      "('Michigan State University', 'Kawasaki Medical School')\n",
      "('Michigan State University', 'Kyoto University')\n",
      "('Aarhus University Hospital', 'Aarhus University')\n",
      "('Sungkyunkwan University', 'Sungkyunkwan University School of Medicine')\n",
      "('Federico II University', 'National Institutes of Health')\n",
      "('Philipps University', 'Justus Liebig University')\n",
      "('Hebrew University Medical Center', 'Duke University')\n",
      "('Suzhou Hospital Affiliated to Nanjing Medical University', 'David Geffen School of Medicine')\n",
      "('Shanxi Agricultural University', 'Central South University')\n",
      "('Dalian Medical University', 'Tsinghua University')\n",
      "('Dalian Medical University', 'Tarim University')\n",
      "('National Taiwan University Hospital', 'China Medical University')\n",
      "('National Taiwan University Hospital', 'National Taiwan University College of Medicine')\n",
      "('School of Chinese Medicine', 'Hong Kong Baptist University')\n",
      "('School of Chinese Medicine', 'Peking University Third Hospital')\n",
      "('Kansas State University', 'Iowa State University')\n",
      "('Kansas State University', 'University of Applied Sciences Mittelhessen')\n",
      "('Kansas State University', 'Justus Liebig University Giessen')\n",
      "('Kansas State University', 'Nanjing Agricultural University')\n",
      "('Chosun University', 'Hanyang University')\n",
      "('Chosun University', 'Sungkyunkwan University School of Medicine')\n",
      "('Bonn Medical School', 'Wageningen University')\n",
      "('Bonn Medical School', 'Harvard Medical School')\n",
      "('Bonn Medical School', 'The University of Tokyo')\n",
      "('Bonn Medical School', 'National Institutes of Health')\n",
      "('Bonn Medical School', 'Massachusetts Institute of Technology')\n",
      "('Yokohama City University School of Medicine', 'Hiroshima University')\n",
      "('Yokohama City University School of Medicine', 'Kwansei Gakuin University')\n",
      "('Stanford University School of Medicine', 'Texas Christian University')\n",
      "('Stanford University School of Medicine', 'Rutgers Robert Wood Johnson University Medical School')\n",
      "('Stanford University School of Medicine', 'Massachusetts Institute of Technology')\n",
      "('Stanford University School of Medicine', 'Stanford University')\n",
      "('Stanford University School of Medicine', 'USA Stanford Genome Technology Center')\n",
      "('Stanford University School of Medicine', 'Fudan University Shanghai Cancer Center')\n",
      "('Stanford University School of Medicine', 'Harvard Medical School')\n",
      "('Stanford University School of Medicine', 'Nanyang Technological University')\n",
      "('Stanford University School of Medicine', 'University Medical Center Gottingen')\n",
      "('Stanford University School of Medicine', 'Nanjing Agricultural University')\n",
      "('Stanford University School of Medicine', 'David Geffen School of Medicine')\n",
      "('Stanford University School of Medicine', 'Fudan University')\n",
      "('Stanford University School of Medicine', 'Shanghai Medical School')\n",
      "('Stanford University School of Medicine', 'University of California at San Francisco')\n",
      "('Stanford University School of Medicine', 'Northwestern University Feinberg School of Medicine')\n",
      "('Peking University Health Science Center', 'Southern Medical University')\n",
      "('Peking University Health Science Center', 'School of Basic Medical Sciences')\n",
      "('Peking University Health Science Center', 'School of Basic Medicine')\n",
      "('Mahidol University', 'Cornell University')\n",
      "('Mahidol University', 'Indiana University School of Medicine')\n",
      "('Tokushima University', 'Nihon University')\n",
      "('Tokushima University', 'Osaka University')\n",
      "('Tokushima University', 'Iwate University')\n",
      "('Tokushima University', 'Chiba University')\n",
      "('Shenzhen University', 'The Affiliated Luohu Hospital of Shenzhen University')\n",
      "('Shenzhen University', 'Henan Agricultural University')\n",
      "('Shenzhen University', 'Aarhus University')\n",
      "('Shenzhen University', 'University of Chinese Academy of Sciences College')\n",
      "('Shenzhen University', 'University of Chinese Academy of Sciences')\n",
      "('Shenzhen University', 'The First Affiliated Hospital of Shenzhen University')\n",
      "('Northwestern University', 'Feinberg School of Medicine')\n",
      "('Northwestern University', 'Loyola University Chicago')\n",
      "('Northwestern University', 'Maryville University')\n",
      "('Northwestern University', 'Harvard University')\n",
      "('Northwestern University', 'Stritch School of Medicine')\n",
      "('Northwestern University', 'Medical School')\n",
      "('Northwestern University', 'Princeton University')\n",
      "('Model Animal Research Center of Nanjing University', 'Third Military Medical University')\n",
      "('Model Animal Research Center of Nanjing University', 'Institute of Computing Technology')\n",
      "('Model Animal Research Center of Nanjing University', 'Yulin University')\n",
      "('Model Animal Research Center of Nanjing University', 'Tsinghua University')\n",
      "('Model Animal Research Center of Nanjing University', 'Johns Hopkins University School of Medicine')\n",
      "('Model Animal Research Center of Nanjing University', 'Wenzhou Medical University')\n",
      "('Kurume University School of Medicine', 'Kyoto Prefectural University of Medicine')\n",
      "('Kurume University School of Medicine', 'Osaka University')\n",
      "('Kurume University School of Medicine', 'Kyoto University')\n",
      "('Kurume University School of Medicine', 'Hokkaido University Graduate School of Medicine')\n",
      "('Yonsei University College of Medicine', 'Korea University')\n",
      "('Yonsei University College of Medicine', 'Seoul National University')\n",
      "('Yonsei University College of Medicine', 'Yonsei University')\n",
      "('Yonsei University College of Medicine', 'Yale School of Medicine')\n",
      "('Yonsei University College of Medicine', 'Hanyang University')\n",
      "('Seoul National University', 'McGill University')\n",
      "('Seoul National University', 'Korea University')\n",
      "('Seoul National University', 'Seoul National University College of Medicine')\n",
      "('Seoul National University', 'Massachusetts Institute of Technology')\n",
      "('Seoul National University', 'University of Ulsan College of Medicine')\n",
      "('Seoul National University', 'Pusan National University')\n",
      "('Seoul National University', 'University Medical Center')\n",
      "('Seoul National University', 'Seoul National University Graduate School')\n",
      "('Seoul National University', 'Keck School of Medicine')\n",
      "('Seoul National University', 'Chungnam National University')\n",
      "('Seoul National University', 'Hanyang University')\n",
      "('Seoul National University', 'University of Utah School of Medicine')\n",
      "('Ji Nan University', 'National Institutes of Health')\n",
      "('University Medical Centre Groningen', 'Harvard Medical School')\n",
      "('Kwansei Gakuin University', 'Hiroshima University')\n",
      "('University of Massachusetts Medical', 'National Institutes of Health')\n",
      "('Kitasato University School of Science', 'Osaka University')\n",
      "('Hokkaido University', 'The University of Tokushima')\n",
      "('Hokkaido University', 'The University of Tokyo')\n",
      "('Hokkaido University', 'Kyushu University')\n",
      "('Hokkaido University', 'Kyoto University')\n",
      "('Hokkaido University', 'Fujita Health University School of Medicine')\n",
      "('Policlinico Tor Vergata University Hospital', 'Istanbul University')\n",
      "('Policlinico Tor Vergata University Hospital', 'Julius Maximilian University of Wurzburg')\n",
      "('Chungnam National University', 'Hanyang University')\n",
      "('Fourth Military Medical University', 'Huazhong Agricultural University')\n",
      "('Fourth Military Medical University', 'Kyoto University')\n",
      "('The University of North Carolina', 'Georgia State University')\n",
      "('Institute of Computing Technology', 'Johns Hopkins University School of Medicine')\n",
      "('Institute of Computing Technology', 'Tsinghua University')\n",
      "('Henan University of Science and Technology', 'Zhengzhou University')\n",
      "('France Paris Descartes University', 'Harvard Medical School')\n",
      "('Princeton University', 'Paracelsus Medical University')\n",
      "('Princeton University', 'Feinberg School of Medicine')\n",
      "('Princeton University', 'Medical University Innsbruck')\n",
      "('Seoul National University Graduate School', 'Seoul National University College of Medicine')\n",
      "('Curtin University', 'Virginia Commonwealth University')\n",
      "('Curtin University', 'The University of Western Australia')\n",
      "('Erasmus University Medical Center', 'University Hospital Regensburg')\n",
      "('Erasmus University Medical Center', 'Leiden University Medical Center')\n",
      "('Erasmus University Medical Center', 'University of North Carolina')\n",
      "('Erasmus University Medical Center', 'Boston University')\n",
      "('Erasmus University Medical Center', 'Johns Hopkins University')\n",
      "('Erasmus University Medical Center', 'The University of New South Wales')\n",
      "('Erasmus University Medical Center', 'Icahn School of Medicine at Mount Sinai')\n",
      "('Erasmus University Medical Center', 'University Medical Center Groningen')\n",
      "('Federal University of Pelotas Pelotas', 'University of Illinois Cancer Center')\n",
      "('Federal University of Pelotas Pelotas', 'University of Illinois at ChicagoChicago')\n",
      "('Singapore National University of Singapore', 'University of California San Diego')\n",
      "('Justus Liebig University Giessen', 'Danish Technical University')\n",
      "('Justus Liebig University Giessen', 'University of Applied Sciences Mittelhessen')\n",
      "('Justus Liebig University Giessen', 'The Norwegian University of Life Sciences')\n",
      "('Justus Liebig University Giessen', 'Free University Berlin')\n",
      "('Chalmers University of Technology', 'Technical University of Denmark')\n",
      "('University Medical Centre Rotterdam', 'Emory University School of Medicine')\n",
      "('University Medical Centre Rotterdam', 'Georgia State University')\n",
      "('University Medical Centre Rotterdam', 'Emory University')\n",
      "('University Medical Centre Rotterdam', 'Duke University Medical Center')\n",
      "('Dalhousie University', 'Stanford University')\n",
      "('Dalhousie University', 'The State University of New Jersey')\n",
      "('Dalhousie University', 'King Saud University')\n",
      "('Dalhousie University', 'Rutgers Cancer Institute of New Jersey and Robert Wood Johnson Medical School')\n",
      "('Dalhousie University', 'Harvard Medical School')\n",
      "('Dalhousie University', 'Harvard University')\n",
      "('Dalhousie University', 'University Health Network')\n",
      "('Gyeongsang National University', 'Utah State University')\n",
      "('Shanghai Jiaotong University School of Medicine', 'Keck School of Medicine')\n",
      "('Shanghai Jiaotong University School of Medicine', 'Fudan University')\n",
      "('Shanghai Jiaotong University School of Medicine', 'Tongji University School of Medicine')\n",
      "('Shanghai Jiaotong University School of Medicine', 'University of Southern California')\n",
      "('University of Chinese Academy of Sciences College', 'The Affiliated Luohu Hospital of Shenzhen University')\n",
      "('University of Chinese Academy of Sciences College', 'The First Affiliated Hospital of Shenzhen University')\n",
      "('University of Chinese Academy of Sciences College', 'University of Chinese Academy of Sciences')\n",
      "('University of California at Los Angeles', 'David Geffen School of Medicine')\n",
      "('Wayne State University School of Medicine', 'Jilin University')\n",
      "('Wayne State University School of Medicine', 'The First Hospital of Jilin University')\n",
      "('North Carolina State University', 'Montana State University')\n",
      "('North Carolina State University', 'University Park')\n",
      "('North Carolina State University', 'National Institutes of Health')\n",
      "('North Carolina State University', 'Pennsylvania State University')\n",
      "('North Carolina State University', 'The Pennsylvania State University')\n",
      "('North Carolina State University', 'National University of Ireland')\n",
      "('North Carolina State University', 'Inner Mongolia Agricultural University')\n",
      "('North Carolina State University', 'Wageningen University')\n",
      "('North Carolina State University', 'University College Cork')\n",
      "('North Carolina State University', 'University of North Carolina School of Medicine')\n",
      "('North Carolina State University', 'University of St Andrews')\n",
      "('North Carolina State University', 'Copenhagen University')\n",
      "('University Hospital Zurich', 'Children University Hospital Zurich')\n",
      "('Lomonosov Moscow State University', 'Russia Pirogov Russian National Research Medical University')\n",
      "('Lomonosov Moscow State University', 'the State University of New Jersey')\n",
      "('Lomonosov Moscow State University', 'Purdue University')\n",
      "('Arizona State University', 'Massachusetts Institute of Technology')\n",
      "('Arizona State University', 'Harvard Medical School')\n",
      "('Arizona State University', 'Johns Hopkins University School of Medicine')\n",
      "('Arizona State University', 'Cornell University')\n",
      "('Arizona State University', 'Boston University')\n",
      "('Arizona State University', 'Harvard University')\n",
      "('University of Seville Seville', 'Yale University New Haven')\n",
      "('University of Seville Seville', 'University of Connecticut Storrs')\n",
      "('University of Seville Seville', 'Yale School of Medicine')\n",
      "('University College Cork', 'Wageningen University')\n",
      "('University College Cork', 'Inner Mongolia Agricultural University')\n",
      "('Fuzhou University', 'Fujian Normal University')\n",
      "('Tokai University', 'Shinshu University')\n",
      "('Tokai University', 'Tokai University School of Medicine')\n",
      "('Tokai University', 'Osaka University')\n",
      "('Tokai University', 'Central South University')\n",
      "('Tokai University', 'Niigata University')\n",
      "('Tokai University', 'Harvard Medical School')\n",
      "('Tokai University', 'University of Miami Miller School of Medicine')\n",
      "('Tokai University', 'Kagoshima University')\n",
      "('Jeju National University', 'KonKuk University')\n",
      "('United Graduate School of Drug Discovery and Medical Information Science', 'Gifu University')\n",
      "('United Graduate School of Drug Discovery and Medical Information Science', 'Kyoto Prefectural University of Medicine')\n",
      "('Fudan University Shanghai Cancer Center', 'Fudan University')\n",
      "('Fudan University Shanghai Cancer Center', 'Shanghai Medical School')\n",
      "('Fudan University Shanghai Cancer Center', 'Nanyang Technological University')\n",
      "('Ghent University', 'National University of Singapore')\n",
      "('Ghent University', 'Ghent University Hospital')\n",
      "('University of British Columbia', 'University of Washington School of Medicine')\n",
      "('University of British Columbia', 'McMaster University')\n",
      "('University of British Columbia', 'National University of Singapore')\n",
      "('University of British Columbia', 'Harvard University')\n",
      "('University of British Columbia', 'Harvard Medical School')\n",
      "('Muenster University Hospital', 'Temple University')\n",
      "('The Johns Hopkins University', 'University of Maryland School of Medicine')\n",
      "('Virginia Commonwealth University', 'The University of Western Australia')\n",
      "('Temple University', 'Wuhan University')\n",
      "('Temple University', 'School of Basic Medical Sciences')\n",
      "('Temple University', 'Wuhan University School of Medicine')\n",
      "('the State University of New Jersey', 'Russia Pirogov Russian National Research Medical University')\n",
      "('the State University of New Jersey', 'Montana State University')\n",
      "('the State University of New Jersey', 'Purdue University')\n",
      "('Cankiri Karatekin University', 'Dokuz Eylul University')\n",
      "('Cankiri Karatekin University', 'Western Sydney University')\n",
      "('The University of Tulsa', 'The University of Michigan')\n",
      "('McMaster University', 'Stanford University')\n",
      "('Tokyo University of Agriculture and Technology', 'Meiji University')\n",
      "('Johannes Gutenberg University', 'Harvard Medical School')\n",
      "('Johannes Gutenberg University', 'University of Western Australia')\n",
      "('Johannes Gutenberg University', 'University Medical Center')\n",
      "('Interdisciplinary Graduate School of Medicine and Engineering', 'Hoshi University')\n",
      "('Interdisciplinary Graduate School of Medicine and Engineering', 'Hokkaido University Graduate School of Medicine')\n",
      "('Interdisciplinary Graduate School of Medicine and Engineering', 'Osaka University')\n",
      "('Interdisciplinary Graduate School of Medicine and Engineering', 'Okayama University')\n",
      "('Keio University', 'Kobe University')\n",
      "('Stritch School of Medicine', 'Feinberg School of Medicine')\n",
      "('Stritch School of Medicine', 'Maryville University')\n",
      "('Stritch School of Medicine', 'Loyola University Chicago')\n",
      "('Rutgers Robert Wood Johnson University Medical School', 'University of California at San Francisco')\n",
      "('The Pennsylvania State University', 'Illinois Institute of Technology')\n",
      "('The Pennsylvania State University', 'Nanjing Normal University')\n",
      "('The Pennsylvania State University', 'USA Northern Arizona University')\n",
      "('The Pennsylvania State University', 'University Park')\n",
      "('Johns Hopkins University School of Medicine', 'Massachusetts Institute of Technology')\n",
      "('Johns Hopkins University School of Medicine', 'Johns Hopkins University')\n",
      "('Johns Hopkins University School of Medicine', 'National Institutes of Health')\n",
      "('Johns Hopkins University School of Medicine', 'Zhejiang University')\n",
      "('Johns Hopkins University School of Medicine', 'Tsinghua University')\n",
      "('Johns Hopkins University School of Medicine', 'University of California at San Diego')\n",
      "('University of South China', 'Morehouse School of Medicine')\n",
      "('Medical University Innsbruck', 'Paracelsus Medical University')\n",
      "('Nanjing Agricultural University', 'Iowa State University')\n",
      "('Nanjing Agricultural University', 'Purdue University')\n",
      "('Nanjing Agricultural University', 'Jiangnan University')\n",
      "('Nanjing Agricultural University', 'Yunnan University')\n",
      "('The Norwegian University of Life Sciences', 'Danish Technical University')\n",
      "('The Norwegian University of Life Sciences', 'Free University Berlin')\n",
      "('Ewha Womans University School of Medicine', 'Yonsei University')\n",
      "('Chang Gung University', 'National Cheng Kung University')\n",
      "('Sapienza University', 'Duke University')\n",
      "('City University of Hong Kong', 'Harvard Medical School')\n",
      "('City University of Hong Kong', 'National University of Singapore')\n",
      "('Huazhong Agricultural University', 'School of Veterinary Medicine')\n",
      "('Huazhong Agricultural University', 'Washington University School of Medicine')\n",
      "('Huazhong Agricultural University', 'University of California San Diego')\n",
      "('Huazhong Agricultural University', 'Tsinghua University')\n",
      "('Huazhong Agricultural University', 'Fudan University')\n",
      "('Huazhong Agricultural University', 'Kyoto University')\n",
      "('Huazhong Agricultural University', 'Zulfiqar Ali Bhutto Medical University')\n",
      "('School of Basic Medical Sciences', 'Wuhan University School of Medicine')\n",
      "('School of Basic Medical Sciences', 'Central South University')\n",
      "('School of Basic Medical Sciences', 'Zhejiang Chinese Medical University')\n",
      "('School of Basic Medical Sciences', 'Perelman School of Medicine')\n",
      "('School of Basic Medical Sciences', 'Fudan University')\n",
      "('School of Basic Medical Sciences', 'Wuhan University')\n",
      "('Pennsylvania State University', 'Nanyang Technological University')\n",
      "('Pennsylvania State University', 'Perelman School of Medicine')\n",
      "('Pennsylvania State University', 'University Park')\n",
      "('Vanderbilt University School of Medicine', 'Uppsala University')\n",
      "('Vanderbilt University School of Medicine', 'University of Miami Miller School of Medicine')\n",
      "('Vanderbilt University School of Medicine', 'National Institutes of Health')\n",
      "('Georgia State University', 'Emory University School of Medicine')\n",
      "('Georgia State University', 'Emory University')\n",
      "('Georgia State University', 'Duke University Medical Center')\n",
      "('Hokkaido University Graduate School of Medicine', 'Hoshi University')\n",
      "('Hokkaido University Graduate School of Medicine', 'Osaka University')\n",
      "('Hokkaido University Graduate School of Medicine', 'Okayama University')\n",
      "('Hokkaido University Graduate School of Medicine', 'Kyushu University')\n",
      "('Hokkaido University Graduate School of Medicine', 'Kyoto Prefectural University of Medicine')\n",
      "('Hokkaido University Graduate School of Medicine', 'Kyoto University')\n",
      "('Hokkaido University Graduate School of Medicine', 'Columbia University')\n",
      "('Charles University in Prague', 'Radboud University Medical Centre')\n",
      "('Charles University in Prague', 'Duke University')\n",
      "('Charles University in Prague', 'University Hospital of Ghent')\n",
      "('Charles University in Prague', 'Wake Forest School of Medicine')\n",
      "('Osaka University', 'The State University of New Jersey')\n",
      "('Osaka University', 'Osaka University Graduate School of Medicine')\n",
      "('Osaka University', 'Gunma University')\n",
      "('Osaka University', 'Hoshi University')\n",
      "('Osaka University', 'Nihon University')\n",
      "('Osaka University', 'Kyoto University')\n",
      "('Osaka University', 'Keio University School of Medicine')\n",
      "('Osaka University', 'Akita University')\n",
      "('Osaka University', 'Sojo University')\n",
      "('Osaka University', 'Okayama University')\n",
      "('Osaka University', 'Kyoto Prefectural University of Medicine')\n",
      "('Niigata University', 'Shinshu University')\n",
      "('Niigata University', 'Kagoshima University')\n",
      "('University of California San Diego', 'Columbia University Medical Center')\n",
      "('University of California San Diego', 'Northeast Agricultural University')\n",
      "('University of California San Diego', 'Xiamen University')\n",
      "('University of California San Diego', 'Harvard Medical School')\n",
      "('University of California San Diego', 'National University of Singapore')\n",
      "('Hiroshima University', 'Kyushu Institute of Technology')\n",
      "('Hiroshima University', 'The University of Tokushima Graduate School')\n",
      "('Hiroshima University', 'The University of Tokushima')\n",
      "('Hiroshima University', 'Yokohama City University Graduate School of Medicine')\n",
      "('Hiroshima University', 'Kyushu University')\n",
      "('Hiroshima University', 'Tokyo University of Agriculture')\n",
      "('Hiroshima University', 'Hiroshima University Hospital')\n",
      "('Hiroshima University', 'Kyoto University')\n",
      "('Hiroshima University', 'Keio University School of Medicine')\n",
      "('Mie University Graduate School of Medicine', 'Mie University Industrial Technology Innovation Institute')\n",
      "('The First Affiliated Hospital of Zhengzhou University', 'Tongji University School of Medicine')\n",
      "('Tamagawa University', 'The University of Tokyo')\n",
      "('University of Illinois Cancer Center', 'University of Illinois at ChicagoChicago')\n",
      "('University of St Andrews', 'Wageningen University')\n",
      "('University of St Andrews', 'National Institutes of Health')\n",
      "('University of St Andrews', 'Copenhagen University')\n",
      "('University of St Andrews', 'Umea University')\n",
      "('SUNY Upstate Medical University', 'McGill University')\n",
      "('SUNY Upstate Medical University', 'National Institutes of Health')\n",
      "('Ohio State University', 'Massachusetts Institute of Technology')\n",
      "('Umea University', 'Hannover Medical School')\n",
      "('Umea University', 'Sackler School of Medicine')\n",
      "('Umea University', 'National Institutes of Health')\n",
      "('Umea University', 'University Hospital of North Norway')\n",
      "('Umea University', 'Wageningen University')\n",
      "('Stanford University', 'Tsinghua University')\n",
      "('Stanford University', 'Washington University School of Medicine')\n",
      "('Stanford University', 'Harvard University')\n",
      "('Stanford University', 'Rice University')\n",
      "('Stanford University', 'University of Southern Denmark')\n",
      "('Stanford University', 'Massachusetts Institute of Technology')\n",
      "('Stanford University', 'Hubei University of Technology')\n",
      "('Stanford University', 'Odense University Hospital')\n",
      "('Stanford University', 'Harvard Medical School')\n",
      "('Stanford University', 'Iowa State University')\n",
      "('Stanford University', 'University Health Network')\n",
      "('Stanford University', 'Wuhan University')\n",
      "('Stanford University', 'University of Utah School of Medicine')\n",
      "('Graduate School of Life Sciences', 'Tohoku University')\n",
      "('University Medical Center', 'McGill University')\n",
      "('University Medical Center', 'Massachusetts Institute of Technology')\n",
      "('University Medical Center', 'University of Western Australia')\n",
      "('University Medical Center', 'Harvard Medical School')\n",
      "('University Medical Center', 'Wageningen University')\n",
      "('University Medical Center', 'University of Utah School of Medicine')\n",
      "('University Lung Centre Dekkerswald', 'Radbout University Nijmegen Medical Centre')\n",
      "('Loyola University Chicago', 'Feinberg School of Medicine')\n",
      "('Loyola University Chicago', 'Maryville University')\n",
      "('University of Missouri Kansas City', 'Fudan University')\n",
      "('University of Missouri Kansas City', 'Nanchang University')\n",
      "('University of Missouri Kansas City', 'University of Tennessee Health Science Center')\n",
      "('University of Southern California Norris Comprehensive Cancer Center', 'Keck School of Medicine')\n",
      "('University of Southern California Norris Comprehensive Cancer Center', 'Lund University')\n",
      "('University of Utah School of Medicine', 'McGill University')\n",
      "('University of Utah School of Medicine', 'University of New South Wales')\n",
      "('University of Utah School of Medicine', 'Massachusetts Institute of Technology')\n",
      "('University of Utah School of Medicine', 'Harvard Medical School')\n",
      "('School of Dental Medicine', 'Perelman School of Medicine')\n",
      "('Huazhong Agricultural University Wuhan', 'University of Idaho Moscow')\n",
      "('Massachusetts General Hospital and Harvard Medical School', 'Harvard Medical School')\n",
      "('Massachusetts General Hospital and Harvard Medical School', 'Lund University')\n",
      "('Massachusetts General Hospital and Harvard Medical School', 'Harvard University')\n",
      "('Princeton University Princeton', 'University of the Free State Bloemfontein')\n",
      "('Shanghai University of Traditional Chinese Medicine', 'University of Chinese Academy of Sciences')\n",
      "('David Geffen School of Medicine', 'Tongji University School of Medicine')\n",
      "('David Geffen School of Medicine', 'California State University')\n",
      "('David Geffen School of Medicine', 'Shanghai Jiao Tong University')\n",
      "('David Geffen School of Medicine', 'Sungkyunkwan University School of Medicine')\n",
      "('Wageningen University', 'Massachusetts Institute of Technology')\n",
      "('Wageningen University', 'The State University of New Jersey')\n",
      "('Wageningen University', 'Harvard Medical School')\n",
      "('Wageningen University', 'Inner Mongolia Agricultural University')\n",
      "('Wageningen University', 'Copenhagen University')\n",
      "('Wageningen University', 'National Institutes of Health')\n",
      "('Wageningen University', 'Iowa State University Ames')\n",
      "('Wageningen University', 'Delft University of Technology')\n",
      "('Wageningen University', 'Faculty of Medicine University of Helsinki')\n",
      "('Wageningen University', 'Iowa State University')\n",
      "('Wageningen University', 'Montana State University')\n",
      "('Wageningen University', 'Utrecht University')\n",
      "('Wageningen University', 'Northeastern University')\n",
      "('Western Sydney University', 'Dokuz Eylul University')\n",
      "('University of Southern California', 'Keck School of Medicine')\n",
      "('University of Southern California', 'Sichuan University')\n",
      "('University of Southern California', 'Second Military Medical University')\n",
      "('Massachusetts General Hospital and Harvard Medical School Department of Pathology', 'Radboud University Medical Center')\n",
      "('Massachusetts General Hospital and Harvard Medical School Department of Pathology', 'Utrecht University')\n",
      "('Radboud University Medical Centre', 'Federal University of Rio de Janeiro')\n",
      "('Radboud University Medical Centre', 'San Diego State University')\n",
      "('Radboud University Medical Centre', 'University Hospital of Ghent')\n",
      "('Radboud University Medical Centre', 'Wake Forest School of Medicine')\n",
      "('Radboud University Medical Centre', 'Utrecht University')\n",
      "('Radboud University Medical Centre', 'Duke University')\n",
      "('National Tsing Hua University', 'National Cheng Kung University')\n",
      "('Tianjin University', 'Hubei University of Technology')\n",
      "('University of Vermont College of Medicine', 'Harvard Medical School')\n",
      "('University of Vermont College of Medicine', 'Brown University')\n",
      "('Hunan University', 'Tsinghua University')\n",
      "('National Taiwan University College of Medicine', 'China Medical University')\n",
      "('Wuhan University', 'Renmin Hospital of Wuhan University')\n",
      "('Wuhan University', 'Hubei University of Technology')\n",
      "('Wuhan University', 'Tsinghua University')\n",
      "('Wuhan University', 'Harvard Medical School')\n",
      "('Wuhan University', 'Fudan University')\n",
      "('Wuhan University', 'Wuhan University School of Medicine')\n",
      "('South China Agricultural University', 'Guangxi University')\n",
      "('South China Agricultural University', 'Massachusetts Institute of Technology')\n",
      "('Guangxi University', 'First Affiliated Hospital of Shenzhen University')\n",
      "('Guangxi University', 'Zhejiang University')\n",
      "('San Diego State University', 'Radboud University')\n",
      "('San Diego State University', 'Federal University of Rio de Janeiro')\n",
      "('San Diego State University', 'Utrecht University')\n",
      "('Stony Brook University', 'University of New Mexico')\n",
      "('University of Arkansas for Medical Sciences', 'The University of Texas at Austin')\n",
      "('University of Arkansas for Medical Sciences', 'University of California San Francisco')\n",
      "('Free University Berlin', 'Danish Technical University')\n",
      "('Wenzhou Medical University', 'Third Military Medical University')\n",
      "('Wenzhou Medical University', 'Zhejiang University')\n",
      "('Wenzhou Medical University', 'South Dakota State University')\n",
      "('Wenzhou Medical University', 'Northeast Normal University')\n",
      "('Wenzhou Medical University', 'Emory University School of Medicine')\n",
      "('Technical University of Lodz', 'Jagiellonian University')\n",
      "('Yale School of Medicine', 'Shanghai Jiao Tong University School of Medicine')\n",
      "('Yale School of Medicine', 'Yale University New Haven')\n",
      "('Yale School of Medicine', 'University of Connecticut Storrs')\n",
      "('University Medical Center Utrecht', 'Danish Technical University')\n",
      "('University Medical Center Utrecht', 'Leiden University Medical Center')\n",
      "('University Medical Center Utrecht', 'University Hospital of North Norway')\n",
      "('University Medical Center Utrecht', 'Harvard Medical School')\n",
      "('University Medical Center Utrecht', 'University Hospital of Lausanne')\n",
      "('University Medical Center Utrecht', 'Harvard University')\n",
      "('China Agricultural University', 'Shanghai University')\n",
      "('East China Normal University', 'University of Texas Health Sciences Center')\n",
      "('East China Normal University', 'Southern Medical University')\n",
      "('East China Normal University', 'Second Military Medical University')\n",
      "('East China Normal University', 'Zhejiang University')\n",
      "('East China Normal University', 'Fudan University')\n",
      "('East China Normal University', 'Nanjing University')\n",
      "('Osaka Prefecture University', 'Fujita Health University School of Medicine')\n",
      "('South China Agricultural University Guangzhou', 'Shanghai Jiao Tong University Shanghai')\n",
      "('Seoul National University Hospital', 'Seoul National University College of Medicine')\n",
      "('Iowa State University Ames', 'The State University of New Jersey')\n",
      "('Iowa State University Ames', 'Iowa State University')\n",
      "('Zhongnan Hospital of Wuhan University', 'The Ohio State University Wexner Medical Center')\n",
      "('Kyoto University', 'The State University of New Jersey')\n",
      "('Kyoto University', 'The University of Tokyo')\n",
      "('Kyoto University', 'Kawasaki Medical School')\n",
      "('Kyoto University', 'Tokyo University of Agriculture')\n",
      "('Kyoto University', 'Kyoto Prefectural University of Medicine')\n",
      "('Kyoto University', 'Fujita Health University School of Medicine')\n",
      "('Kyoto University', 'Keio University School of Medicine')\n",
      "('Cornell University', 'University of Michigan Health System')\n",
      "('Cornell University', 'Montana State University')\n",
      "('Cornell University', 'Massachusetts Institute of Technology')\n",
      "('Cornell University', 'Boston University')\n",
      "('Cornell University', 'Johns Hopkins University')\n",
      "('Cornell University', 'Indiana University School of Medicine')\n",
      "('Cornell University', 'School of Chemical and Biomolecular Engineering Department of Microbiology Macromolecular Diffraction Facility at CHESS Department of Molecular Biology and Genetics Department of Biomedical Engineering')\n",
      "('Cornell University', 'Harvard Medical School')\n",
      "('Cornell University', 'Harvard University')\n",
      "('Cornell University', 'Harbin Institute of Technology')\n",
      "('The University of Chicago', 'Northwestern University Feinberg School of Medicine')\n",
      "('National University of Singapore', 'Columbia University Medical Center')\n",
      "('National University of Singapore', 'National University Health System')\n",
      "('National University of Singapore', 'Nanyang Technological University')\n",
      "('Harbin Institute of Technology', 'Tsinghua University')\n",
      "('Harbin Institute of Technology', 'Harbin Medical University')\n",
      "('The University of Tokushima', 'The University of Tokushima Graduate School')\n",
      "('Central South University', 'The Second Xiangya Hospital Central South University')\n",
      "('Central South University', 'Central South University Changsha')\n",
      "('Central South University', 'Shanghai Jiao Tong University')\n",
      "('Central South University', 'Creighton University School of Medicine')\n",
      "('Central South University', 'Harvard Medical School')\n",
      "('Central South University', 'University of Miami Miller School of Medicine')\n",
      "('Central South University', 'Fudan University')\n",
      "('University of California at San Diego', 'Shanghai Jiao Tong University School of Medicine')\n",
      "('Technical University of Denmark', 'Friedrich Schiller University Jena')\n",
      "('Technical University of Denmark', 'San Diego School of Medicine')\n",
      "('Brown University', 'Harvard Medical School')\n",
      "('The Genitourinary Institution of Shenzhen University', 'The First Affiliated Hospital of Shenzhen University')\n",
      "('University of Connecticut Storrs', 'Yale University New Haven')\n",
      "('Heidelberg University', 'University Hospital Mannheim')\n",
      "('University of Southern Denmark', 'Odense University Hospital')\n",
      "('Uppsala University', 'National Institutes of Health')\n",
      "('Uppsala University', 'Lund University')\n",
      "('Shanxi Medical University', 'Columbia University Medical Center')\n",
      "('Shanxi Medical University', 'Columbia University')\n",
      "('USA Northern Arizona University', 'Illinois Institute of Technology')\n",
      "('USA Northern Arizona University', 'University Park')\n",
      "('Dresden University', 'Ulm University Hospitals')\n",
      "('Leiden University Medical Center', 'Icahn School of Medicine at Mount Sinai')\n",
      "('Leiden University Medical Center', 'University of North Carolina')\n",
      "('Leiden University Medical Center', 'Boston University')\n",
      "('Leiden University Medical Center', 'Johns Hopkins University')\n",
      "('Leiden University Medical Center', 'Utrecht University')\n",
      "('Leiden University Medical Center', 'University Medical Center Freiburg')\n",
      "('Hacettepe University', 'Bilkent University')\n",
      "('Wake Forest School of Medicine', 'Jiangsu University')\n",
      "('Wake Forest School of Medicine', 'Duke University')\n",
      "('Wake Forest School of Medicine', 'University Hospital of Ghent')\n",
      "('Rutgers Cancer Institute of New Jersey and Robert Wood Johnson Medical School', 'The State University of New Jersey')\n",
      "('Yonsei University', 'Hanyang University')\n",
      "('Utrecht University', 'Hannover Medical School')\n",
      "('Utrecht University', 'Radboud University Medical Center')\n",
      "('Utrecht University', 'Federal University of Rio de Janeiro')\n",
      "('Shanghai Jiao Tong University School of Medicine', 'Shanghai Jiao Tong University')\n",
      "('Vilnius University', 'Lithuanian University of Health Sciences')\n",
      "('Vilnius University', 'Rice University')\n",
      "('University Walk', 'Cardiff University')\n",
      "('Southwest University', 'Chongqing Medical University')\n",
      "('Philipps University Marburg', 'University Medical Centre')\n",
      "('Tohoku University', 'Juntendo University')\n",
      "('The State University of New Jersey', 'Iowa State University')\n",
      "('The State University of New Jersey', 'Massachusetts Institute of Technology')\n",
      "('The State University of New Jersey', 'National Institutes of Health')\n",
      "('The State University of New Jersey', 'Harvard Medical School')\n",
      "('The State University of New Jersey', 'Keio University School of Medicine')\n",
      "('Heinrich Heine University Dusseldorf', 'Georg August University Gottingen')\n",
      "('Harvard University', 'Feinberg School of Medicine')\n",
      "('Harvard University', 'University of Washington School of Medicine')\n",
      "('Harvard University', 'Duke University Medical Center')\n",
      "('Harvard University', 'Harvard Medical School')\n",
      "('Harvard University', 'Fudan University')\n",
      "('Harvard University', 'Massachusetts Institute of Technology')\n",
      "('Harvard University', 'National Institutes of Health')\n",
      "('Harvard University', 'Perelman School of Medicine')\n",
      "('Harvard University', 'University Health Network')\n",
      "('Harvard University', 'The University of Tokyo')\n",
      "('Harvard University', 'Sichuan University')\n",
      "('Harvard University', 'Colorado State University')\n",
      "('Harvard University', 'Zhejiang University')\n",
      "('Harvard University', 'Lund University')\n",
      "('Harvard University', 'Duke University')\n",
      "('Harvard University', 'Tufts University')\n",
      "('Harvard University', 'Icahn School of Medicine at Mount Sinai')\n",
      "('Harvard University', 'McGill University')\n",
      "('Harvard University', 'University Hospital of Lausanne')\n",
      "('Harvard University', 'Boston University')\n",
      "('Harvard University', 'Yale University')\n",
      "('Harvard University', 'University of Michigan Comprehensive Cancer Center')\n",
      "('Yunnan Agricultural University', 'Jilin University')\n",
      "('The Affiliated Luohu Hospital of Shenzhen University', 'University of Chinese Academy of Sciences')\n",
      "('The Affiliated Luohu Hospital of Shenzhen University', 'The First Affiliated Hospital of Shenzhen University')\n",
      "('Korea University', 'Hanyang University')\n",
      "('Radboud University Medical Center', 'Harvard Medical School')\n",
      "('University of California San Francisco', 'The University of Texas at Austin')\n",
      "('University of California San Francisco', 'University College London')\n",
      "('Shanghai Tech University', 'University of Chinese Academy of Sciences')\n",
      "('Shanghai Tech University', 'Perelman School of Medicine')\n",
      "('Shanghai Tech University', 'China West Normal University')\n",
      "('Icahn School of Medicine at Mount Sinai', 'University of North Carolina')\n",
      "('Icahn School of Medicine at Mount Sinai', 'Harvard Medical School')\n",
      "('Icahn School of Medicine at Mount Sinai', 'Boston University')\n",
      "('Icahn School of Medicine at Mount Sinai', 'Columbia University')\n",
      "('Icahn School of Medicine at Mount Sinai', 'Johns Hopkins University')\n",
      "('Icahn School of Medicine at Mount Sinai', 'University of Toronto and Donnelly Centre')\n",
      "('Icahn School of Medicine at Mount Sinai', 'University of California Irvine')\n",
      "('Icahn School of Medicine at Mount Sinai', 'The University of Edinburgh')\n",
      "('Northwestern University Feinberg School of Medicine', 'Shaanxi Normal University')\n",
      "('School of Life Sciences Weihenstephan', 'Poznan University of Life Sciences')\n",
      "('The First Hospital of Jilin University', 'Jilin University')\n",
      "('National Cheng Kung University', 'Emory University School of Medicine')\n",
      "('Okayama University', 'Hoshi University')\n",
      "('Okayama University', 'The University of Tokyo')\n",
      "('Okayama University', 'Kyushu University')\n",
      "('Okayama University', 'Nara Medical University')\n",
      "('Okayama University', 'Keio University School of Medicine')\n",
      "('Keck School of Medicine', 'Sichuan University')\n",
      "('Keck School of Medicine', 'Second Military Medical University')\n",
      "('Keck School of Medicine', 'Lund University')\n",
      "('Keck School of Medicine', 'Hanyang University')\n",
      "('Shinshu University', 'Kagoshima University')\n",
      "('Shinshu University', 'The University of Tokyo')\n",
      "('Feinberg School of Medicine', 'Maryville University')\n",
      "('Duke University Medical Center', 'Emory University School of Medicine')\n",
      "('Duke University Medical Center', 'Massachusetts Institute of Technology')\n",
      "('Duke University Medical Center', 'Paris Descartes University')\n",
      "('Duke University Medical Center', 'Emory University')\n",
      "('Duke University Medical Center', 'Harvard Medical School')\n",
      "('Duke University Medical Center', 'Khalifa University')\n",
      "('Duke University Medical Center', 'Duke University')\n",
      "('Duke University Medical Center', 'Columbia University')\n",
      "('Fujita Health University School of Medicine', 'The University of Tokyo')\n",
      "('Northeast Agricultural University', 'Xiamen University')\n",
      "('Tsinghua University', 'Columbia University Medical Center')\n",
      "('Tsinghua University', 'Hubei University of Technology')\n",
      "('Tsinghua University', 'Massachusetts Institute of Technology')\n",
      "('Tsinghua University', 'San Diego School of Medicine')\n",
      "('Tsinghua University', 'Harvard Medical School')\n",
      "('Tsinghua University', 'Zhejiang University')\n",
      "('Tsinghua University', 'Fudan University')\n",
      "('Tsinghua University', 'Tarim University')\n",
      "('Harvard Medical School', 'University of Washington School of Medicine')\n",
      "('Harvard Medical School', 'Rice University')\n",
      "('Harvard Medical School', 'Massachusetts Institute of Technology')\n",
      "('Harvard Medical School', 'Colorado State University')\n",
      "('Harvard Medical School', 'University of Western Australia')\n",
      "('Harvard Medical School', 'Gunma University')\n",
      "('Harvard Medical School', 'Fudan University')\n",
      "('Harvard Medical School', 'McGill University')\n",
      "('Harvard Medical School', 'Hubei University of Technology')\n",
      "('Harvard Medical School', 'National Institutes of Health')\n",
      "('Harvard Medical School', 'University Health Network')\n",
      "('Harvard Medical School', 'Zhejiang University')\n",
      "('Harvard Medical School', 'The University of Tokyo')\n",
      "('Harvard Medical School', 'Perelman School of Medicine')\n",
      "('Harvard Medical School', 'University of Miami Miller School of Medicine')\n",
      "('Harvard Medical School', 'Duke University')\n",
      "('Harvard Medical School', 'United Arab Emirates University')\n",
      "('Harvard Medical School', 'Hannover Medical School')\n",
      "('Harvard Medical School', 'University Hospital of Lausanne')\n",
      "('Harvard Medical School', 'Boston University')\n",
      "('Harvard Medical School', 'Haukeland University Hospital')\n",
      "('Harvard Medical School', 'Lund University')\n",
      "('Harvard Medical School', 'Yale University')\n",
      "('Harvard Medical School', 'University Medical Center Gottingen')\n",
      "('Harvard Medical School', 'Sultan Qaboos University')\n",
      "('Indiana University School of Medicine', 'Indiana University Health')\n",
      "('Indiana University School of Medicine', 'Emory University')\n",
      "('University of Massachusetts School of Medicine', 'Tongji University School of Medicine')\n",
      "('Juntendo University', 'The University of Tokyo')\n",
      "('Nanjing Normal University', 'University Park')\n",
      "('Yunnan University', 'Purdue University')\n",
      "('University Health Network', 'National Institutes of Health')\n",
      "('Northeast Forestry University', 'Jilin University')\n",
      "('Northeast Forestry University', 'Inner Mongolia Agricultural University')\n",
      "('Julius Maximilian University of Wurzburg', 'Istanbul University')\n",
      "('Columbia University', 'Columbia University Medical Center')\n",
      "('Columbia University', 'Montana State University')\n",
      "('Columbia University', 'Khalifa University')\n",
      "('Columbia University', 'Duke University')\n",
      "('New York University School of Medicine', 'Ruhr University Bochum')\n",
      "('New York University School of Medicine', 'Massachusetts Institute of Technology')\n",
      "('University of California Davis', 'Nanjing University')\n",
      "('Temple University School of Medicine', 'Drexel University')\n",
      "('Temple University School of Medicine', 'Sichuan University')\n",
      "('Khalifa University', 'Duke University')\n",
      "('University Medical Center Gottingen', 'Massachusetts Institute of Technology')\n",
      "('Graceland University', 'University of North Carolina')\n",
      "('The State University of New Jersey Piscataway', 'University of Santiago de ChileSantiago')\n",
      "('University of Chinese Academy of Sciences', 'Hubei University of Technology')\n",
      "('University of Chinese Academy of Sciences', 'Shenzhen Institutes of Advanced Technology and Key Lab for Health Informatics')\n",
      "('University of Chinese Academy of Sciences', 'Perelman School of Medicine')\n",
      "('University of Chinese Academy of Sciences', 'The First Affiliated Hospital of Shenzhen University')\n",
      "('University of Chinese Academy of Sciences', 'Jilin University')\n",
      "('Keio University School of Medicine', 'Nara Medical University')\n",
      "('Keio University School of Medicine', 'The University of Tokyo')\n",
      "('Keio University School of Medicine', 'Kyushu University')\n",
      "('Medical School', 'Australian National University')\n",
      "('University of Texas Health Sciences Center', 'Nanjing University')\n",
      "('University of Texas Health Sciences Center', 'Zhejiang University')\n",
      "('Purdue University', 'Russia Pirogov Russian National Research Medical University')\n",
      "('Purdue University', 'Montana State University')\n",
      "('Massachusetts Institute of Technology', 'the Ohio State University')\n",
      "('Massachusetts Institute of Technology', 'Gunma University')\n",
      "('Massachusetts Institute of Technology', 'Rice University')\n",
      "('Massachusetts Institute of Technology', 'National Institutes of Health')\n",
      "('Massachusetts Institute of Technology', 'Perelman School of Medicine')\n",
      "('Massachusetts Institute of Technology', 'Faculty of Veterinary Medicine at Utrecht University')\n",
      "('Massachusetts Institute of Technology', 'McGill University')\n",
      "('Massachusetts Institute of Technology', 'The University of Tokyo')\n",
      "('Massachusetts Institute of Technology', 'Zhejiang University')\n",
      "('Massachusetts Institute of Technology', 'Duke University')\n",
      "('Massachusetts Institute of Technology', 'Boston University')\n",
      "('Massachusetts Institute of Technology', 'University of Hong Kong')\n",
      "('Massachusetts Institute of Technology', 'University of Michigan School of Medicine')\n",
      "('Griffith University', 'Queensland University of Technology')\n",
      "('University Hospital Regensburg', 'The University of New South Wales')\n",
      "('Copenhagen University', 'University of New South Wales')\n",
      "('Copenhagen University', 'National Institutes of Health')\n",
      "('Indiana University Health', 'Emory University')\n",
      "('Yokohama City University Graduate School of Medicine', 'Yokohama City University')\n",
      "('The First Affiliated Hospital of Shenzhen University', 'First Affiliated Hospital of Shenzhen University')\n",
      "('Columbia University Medical Center', 'National University Health System')\n",
      "('Columbia University Medical Center', 'San Diego School of Medicine')\n",
      "('Second Military Medical University', 'Fudan University')\n",
      "('Second Military Medical University', 'Zhejiang University School of Medicine')\n",
      "('Duke University', 'The Ohio State University')\n",
      "('Duke University', 'University Hospital of Ghent')\n",
      "('Duke University', 'Emory University')\n",
      "('University of Tennessee Health Science Center', 'Fudan University')\n",
      "('University of Tennessee Health Science Center', 'Nanchang University')\n",
      "('Washington University', 'Washington University School of Medicine')\n",
      "('Shenzhen Institutes of Advanced Technology and Key Lab for Health Informatics', 'Jilin University')\n",
      "('The Ohio State University Medical Center', 'The Ohio State University')\n",
      "('Gifu University', 'Kyoto Prefectural University of Medicine')\n",
      "('University Medical Centre', 'McGill University')\n",
      "('The Catholic University of Korea', 'Hadassah Hebrew University Hospital')\n",
      "('University Hospital of North Norway', 'Danish Technical University')\n",
      "('Fudan University', 'Tongji University School of Medicine')\n",
      "('Fudan University', 'Zhejiang Chinese Medical University')\n",
      "('Fudan University', 'National Institutes of Health')\n",
      "('Fudan University', 'Perelman School of Medicine')\n",
      "('Fudan University', 'The Second Xiangya Hospital Central South University')\n",
      "('Fudan University', 'University of Miami Miller School of Medicine')\n",
      "('Fudan University', 'Shanghai Medical School')\n",
      "('Fudan University', 'Boston University')\n",
      "('Fudan University', 'Nanchang University')\n",
      "('Fudan University', 'Nanyang Technological University')\n",
      "('Hubei University of Technology', 'Jilin University')\n",
      "('United Arab Emirates University', 'Sultan Qaboos University')\n",
      "('Perelman School of Medicine', 'School of Veterinary Medicine')\n",
      "('Perelman School of Medicine', 'Sichuan University')\n",
      "('Perelman School of Medicine', 'University Park')\n",
      "('Perelman School of Medicine', 'University of Connecticut Health Center')\n",
      "('University Park', 'Illinois Institute of Technology')\n",
      "('University Park', 'Nanyang Technological University')\n",
      "('The University of Tokyo', 'Nara Medical University')\n",
      "('The University of Tokyo', 'National Institutes of Health')\n",
      "('The University of Tokyo', 'Queensland University of Technology')\n",
      "('The University of Tokyo', 'Kyushu University')\n",
      "('The University of Tokyo', 'Gunma University')\n",
      "('Tottori University', 'School of Veterinary Medicine')\n",
      "('University of Miami Miller School of Medicine', 'The Second Xiangya Hospital Central South University')\n",
      "('Nara Medical University', 'Kyushu University')\n",
      "('The University of Edinburgh', 'University of Toronto and Donnelly Centre')\n",
      "('University of Rome Tor Vergata', 'Florence Careggi University Hospital')\n",
      "('Boston University', 'McGill University')\n",
      "('Boston University', 'University of North Carolina')\n",
      "('Boston University', 'Johns Hopkins University')\n",
      "('Boston University', 'National Institutes of Health')\n",
      "('Nanjing University Medical School', 'Sichuan University')\n",
      "('Emory University', 'Emory University School of Medicine')\n",
      "('Emory University', 'The Ohio State University')\n",
      "('Ryerson University', 'University of North Carolina')\n",
      "('Nanyang Technological University', 'Shanghai Medical School')\n",
      "('Jichi Medical University', 'Tokyo University of Agriculture')\n",
      "('Emory University School of Medicine', 'Zhejiang University')\n",
      "('Zhengzhou University', 'University College London')\n",
      "('Deakin University', 'RMIT University')\n",
      "('Kyoto Prefectural University of Medicine', 'Kyushu University')\n",
      "('Inner Mongolia Agricultural University', 'Jilin University')\n",
      "('Kurume University', 'Kyushu University')\n",
      "('Third Military Medical University', 'Nanjing University')\n",
      "('Sichuan University', 'Nankai University')\n",
      "('Shanghai Jiao Tong University', 'Tongji University School of Medicine')\n",
      "('McGill University', 'National Institutes of Health')\n",
      "('Montana State University', 'Indiana University')\n",
      "('Montana State University', 'Johns Hopkins University')\n",
      "('Johns Hopkins University', 'University of North Carolina')\n",
      "('Johns Hopkins University', 'National Institutes of Health')\n",
      "('Nanchang University', 'Tongji University School of Medicine')\n",
      "('Sultan Qaboos University', 'Sultan Qaboos University Hospital')\n",
      "('University of North Carolina', 'National Institutes of Health')\n",
      "('Sungkyunkwan University School of Medicine', 'Hanyang University')\n",
      "('Federal University of Rio de Janeiro', 'Radboud University')\n",
      "('Nanjing University', 'Zhejiang University')\n",
      "('Nanjing University', 'Jilin University')\n",
      "('University College London', 'School of Clinical Medicine')\n",
      "('Zhejiang University', 'Tongji University School of Medicine')\n",
      "('Zhejiang University', 'National Institutes of Health')\n",
      "('Stanford University Medical School', 'Jilin University')\n",
      "('Northeastern University', 'Jilin University')\n",
      "('Utah State University', 'Shihezi University')\n",
      "('Tokai University School of Medicine', 'Tokyo University of Agriculture')\n",
      "('Tokai University School of Medicine', 'Kagoshima University')\n",
      "('Tokyo University of Agriculture', 'Kagoshima University')\n",
      "('National Institutes of Health', 'Xiamen University')\n"
     ]
    }
   ],
   "source": [
    "# We will now analyse the resulting graph.\n",
    "# Create the full graph by reading the 'IS620Project3.csv' file into a nx graph.\n",
    "G = nx.read_edgelist('IS620Project3.csv', delimiter=',', nodetype=str)\n",
    "# print out the edges\n",
    "for e in G.edges():\n",
    "    print e"
   ]
  },
  {
   "cell_type": "code",
   "execution_count": 137,
   "metadata": {
    "collapsed": false
   },
   "outputs": [
    {
     "data": {
      "text/plain": [
       "574"
      ]
     },
     "execution_count": 137,
     "metadata": {},
     "output_type": "execute_result"
    }
   ],
   "source": [
    "# Display the number of nodes.\n",
    "len(G.nodes())"
   ]
  },
  {
   "cell_type": "code",
   "execution_count": 138,
   "metadata": {
    "collapsed": false
   },
   "outputs": [
    {
     "data": {
      "image/png": "[encoded data removed]",
      "text/plain": [
       "<matplotlib.figure.Figure at 0x1291be350>"
      ]
     },
     "metadata": {},
     "output_type": "display_data"
    }
   ],
   "source": [
    "# Draw the raw graph. Notice the heavily connected subgraph in the middle. The rest of the sub-graphs are scattered\n",
    "# around that sub-graph. Most of these smaller sub-graphs have less than 3 nodes each. \n",
    "# We will be interested in subgraphs that have good connectivity (>25 nodes). \n",
    "# It seems like there is one very well connected sub-graph in  the center, the rest of the sub-graphs have very\n",
    "# few nodes. We will investigate this further.\n",
    "nx.draw_spring(G, with_labels=False, node_size=14)"
   ]
  },
  {
   "cell_type": "code",
   "execution_count": 139,
   "metadata": {
    "collapsed": false
   },
   "outputs": [
    {
     "data": {
      "text/plain": [
       "44"
      ]
     },
     "execution_count": 139,
     "metadata": {},
     "output_type": "execute_result"
    }
   ],
   "source": [
    "# Display the number of sub-graphs.\n",
    "nx.number_connected_components(G)"
   ]
  },
  {
   "cell_type": "code",
   "execution_count": 140,
   "metadata": {
    "collapsed": false
   },
   "outputs": [
    {
     "name": "stdout",
     "output_type": "stream",
     "text": [
      "1\n",
      "1048\n",
      "2\n",
      "1\n",
      "1\n",
      "1\n",
      "5\n",
      "2\n",
      "1\n",
      "3\n",
      "1\n",
      "1\n",
      "1\n",
      "1\n",
      "3\n",
      "3\n",
      "1\n",
      "3\n",
      "3\n",
      "3\n",
      "1\n",
      "2\n",
      "3\n",
      "3\n",
      "3\n",
      "1\n",
      "1\n",
      "1\n",
      "1\n",
      "1\n",
      "1\n",
      "1\n",
      "1\n",
      "1\n",
      "1\n",
      "1\n",
      "1\n",
      "1\n",
      "1\n",
      "1\n",
      "1\n",
      "1\n",
      "1\n",
      "1\n"
     ]
    }
   ],
   "source": [
    "# Get the sub graphs\n",
    "graphs = list(nx.connected_component_subgraphs(G))\n",
    "\n",
    "# Display the number of edges in each sub-graph. Notice that the 2nd sub-graph (index 1) has many more edges. This is\n",
    "# the one that is of most interest. We will analyze this subgraph. The other graphs have very few edges (<3)\n",
    "for graph in graphs:\n",
    "    print(graph.number_of_edges())"
   ]
  },
  {
   "cell_type": "code",
   "execution_count": 141,
   "metadata": {
    "collapsed": false
   },
   "outputs": [
    {
     "name": "stdout",
     "output_type": "stream",
     "text": [
      "1\n",
      "11\n",
      "2\n",
      "1\n",
      "1\n",
      "1\n",
      "2\n",
      "2\n",
      "1\n",
      "1\n",
      "1\n",
      "1\n",
      "1\n",
      "1\n",
      "1\n",
      "1\n",
      "1\n",
      "3\n",
      "1\n",
      "3\n",
      "1\n",
      "2\n",
      "1\n",
      "1\n",
      "1\n",
      "1\n",
      "1\n",
      "1\n",
      "1\n",
      "1\n",
      "1\n",
      "1\n",
      "1\n",
      "1\n",
      "1\n",
      "1\n",
      "1\n",
      "1\n",
      "1\n",
      "1\n",
      "1\n",
      "1\n",
      "1\n",
      "1\n"
     ]
    }
   ],
   "source": [
    "# We will now output the diameter for each sub-graph. Note that the he 2nd sub-graph (index 1) has the largest diameter.\n",
    "# This confirms that the 2nd sub-graph is the one that is most connected.\n",
    "for i in range(0,len(graphs)):\n",
    "    print nx.diameter(graphs[i]) "
   ]
  },
  {
   "cell_type": "code",
   "execution_count": 142,
   "metadata": {
    "collapsed": false
   },
   "outputs": [
    {
     "data": {
      "text/plain": [
       "[('Michigan Technological University', 'Shenzhen University'),\n",
       " ('Michigan Technological University', 'Gautam Buddha University'),\n",
       " ('Michigan Technological University', 'Henan Agricultural University'),\n",
       " ('ShanghaiTech University', 'Third Military Medical University'),\n",
       " ('ShanghaiTech University', 'Seoul National University'),\n",
       " ('ShanghaiTech University', 'Yulin University'),\n",
       " ('ShanghaiTech University', 'Nanjing Medical University'),\n",
       " ('ShanghaiTech University', 'National Institutes of Health'),\n",
       " ('ShanghaiTech University', 'University of Chinese Academy of Sciences'),\n",
       " ('ShanghaiTech University',\n",
       "  'Model Animal Research Center of Nanjing University')]"
      ]
     },
     "execution_count": 142,
     "metadata": {},
     "output_type": "execute_result"
    }
   ],
   "source": [
    "# We will now display some of the edges of the 2nd sub-graph in the list. \n",
    "graphs[1].edges()[0:10]"
   ]
  },
  {
   "cell_type": "code",
   "execution_count": 143,
   "metadata": {
    "collapsed": false
   },
   "outputs": [
    {
     "data": {
      "image/png": "[encoded data removed]",
      "text/plain": [
       "<matplotlib.figure.Figure at 0x1291859d0>"
      ]
     },
     "metadata": {},
     "output_type": "display_data"
    }
   ],
   "source": [
    "# We will now draw the 2nd sub-graph (index 1 in python). This looks very well connected.\n",
    "nx.draw_spring(graphs[1], with_labels=False, node_size=21)"
   ]
  },
  {
   "cell_type": "code",
   "execution_count": 144,
   "metadata": {
    "collapsed": false
   },
   "outputs": [],
   "source": [
    "# We will be calculating a few metrics on the graph: Diameter, Eccentricity and Closeness centrality.\n",
    "# The diameter of a graph is the length of the longest chain you are forced to use to get from one vertex \n",
    "# to another in that graph.s"
   ]
  },
  {
   "cell_type": "code",
   "execution_count": 145,
   "metadata": {
    "collapsed": false
   },
   "outputs": [
    {
     "data": {
      "image/png": "[encoded data removed]",
      "text/plain": [
       "<matplotlib.figure.Figure at 0x129176f50>"
      ]
     },
     "metadata": {},
     "output_type": "display_data"
    }
   ],
   "source": [
    "# The maximum distance between a vertex to all other vertices is considered as the eccentricity of vertex.\n",
    "# From the Histogram below we can observe that the  eccentricity values are approximately normally distributed. This \n",
    "# is in line with what we could expect in real-life connections.\n",
    "eccentricity = nx.eccentricity(graphs[1])\n",
    "eccentricity_vals = eccentricity.values()\n",
    "plt.hist(eccentricity.values(),bins=15);\n",
    "plt.title(\"Gaussian Histogram of the eccentricity\");\n",
    "plt.xlabel(\"Value\");\n",
    "plt.ylabel(\"Frequency\");"
   ]
  },
  {
   "cell_type": "code",
   "execution_count": 146,
   "metadata": {
    "collapsed": false
   },
   "outputs": [
    {
     "data": {
      "image/png": "[encoded data removed]",
      "text/plain": [
       "<matplotlib.figure.Figure at 0x11c47d550>"
      ]
     },
     "metadata": {},
     "output_type": "display_data"
    }
   ],
   "source": [
    "# Closeness centrality is defined as the inverse of farness, which in turn, is the sum of distances to all other nodes.\n",
    "# We can see that the centrality measure is also normally distributed.\n",
    "close_cent = nx.closeness_centrality(graphs[1])\n",
    "close_cent_vals = close_cent.values()\n",
    "plt.hist(close_cent_vals,bins=15);\n",
    "plt.title(\"Gaussian Histogram of the centrality\");\n",
    "plt.xlabel(\"Value\");\n",
    "plt.ylabel(\"Frequency\");"
   ]
  },
  {
   "cell_type": "code",
   "execution_count": null,
   "metadata": {
    "collapsed": false
   },
   "outputs": [],
   "source": []
  },
  {
   "cell_type": "code",
   "execution_count": 147,
   "metadata": {
    "collapsed": false
   },
   "outputs": [
    {
     "data": {
      "image/png": "[encoded data removed]",
      "text/plain": [
       "<matplotlib.figure.Figure at 0x11c54e4d0>"
      ]
     },
     "metadata": {},
     "output_type": "display_data"
    }
   ],
   "source": [
    "# We plot the number of nodes as a function of degree. \n",
    "# The node degree is the number of edges adjacent to that node.\n",
    "# We see that the number of nodes decreases rapidly as the degree increases. So the nodes are fairly well dispersed.\n",
    "# So there is fairly well distributed connectivity between the institutions.\n",
    "degrees = graphs[1].degree()\n",
    "values = sorted(set(degrees.values()))\n",
    "hist = [degrees.values().count(x) for x in values]\n",
    "plt.figure();\n",
    "plt.plot(values,hist,'ro-'); \n",
    "plt.legend(['degree']); \n",
    "plt.xlabel('Degree');\n",
    "plt.ylabel('Number of nodes'); \n",
    "plt.title('Institutional Connectivity.');"
   ]
  }
 ],
 "metadata": {
  "anaconda-cloud": {},
  "kernelspec": {
   "display_name": "Python [conda root]",
   "language": "python",
   "name": "conda-root-py"
  },
  "language_info": {
   "codemirror_mode": {
    "name": "ipython",
    "version": 2
   },
   "file_extension": ".py",
   "mimetype": "text/x-python",
   "name": "python",
   "nbconvert_exporter": "python",
   "pygments_lexer": "ipython2",
   "version": "2.7.12"
  }
 },
 "nbformat": 4,
 "nbformat_minor": 0
}
